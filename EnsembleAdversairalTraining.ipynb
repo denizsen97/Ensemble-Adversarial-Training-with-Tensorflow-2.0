{
  "nbformat": 4,
  "nbformat_minor": 0,
  "metadata": {
    "colab": {
      "name": "Project.ipynb",
      "provenance": [],
      "collapsed_sections": [],
      "toc_visible": true,
      "authorship_tag": "ABX9TyORfO/yhhVujyAbmRhOkGEI",
      "include_colab_link": true
    },
    "kernelspec": {
      "name": "python3",
      "display_name": "Python 3"
    },
    "accelerator": "GPU"
  },
  "cells": [
    {
      "cell_type": "markdown",
      "metadata": {
        "id": "view-in-github",
        "colab_type": "text"
      },
      "source": [
        "<a href=\"https://colab.research.google.com/github/denizsen97/Ensemble-Adversarial-Training-with-Tensorflow-2.0/blob/master/EnsembleAdversairalTraining.ipynb\" target=\"_parent\"><img src=\"https://colab.research.google.com/assets/colab-badge.svg\" alt=\"Open In Colab\"/></a>"
      ]
    },
    {
      "cell_type": "code",
      "metadata": {
        "id": "WFS0C6ldyvdW",
        "colab_type": "code",
        "colab": {}
      },
      "source": [
        "import tensorflow as tf\n",
        "from tensorflow import keras\n",
        "from tensorflow.keras import layers\n",
        "import numpy as np\n",
        "from tqdm import tqdm\n",
        "from matplotlib import pyplot as plt"
      ],
      "execution_count": null,
      "outputs": []
    },
    {
      "cell_type": "code",
      "metadata": {
        "id": "davVbL0nYg_h",
        "colab_type": "code",
        "colab": {}
      },
      "source": [
        "from google.colab import drive\n",
        "drive.mount('/content/gdrive')"
      ],
      "execution_count": null,
      "outputs": []
    },
    {
      "cell_type": "markdown",
      "metadata": {
        "id": "GiT88BYyE1sL",
        "colab_type": "text"
      },
      "source": [
        "# Define Model\n",
        "\n",
        "Define a reursable model class as there are many model creation and usage of these models in different parts"
      ]
    },
    {
      "cell_type": "code",
      "metadata": {
        "id": "Z3Qc7P5mxuJL",
        "colab_type": "code",
        "colab": {}
      },
      "source": [
        "class AdvModel:\n",
        "  def __init__(self, name, load_file_name=None, show_summary=True):\n",
        "    self.name = name\n",
        "    self.directory = \"/content/gdrive/My Drive/Mmi 2nd semester/Deep Learning/Project/Model\" + self.name + \"/\"\n",
        "\n",
        "    if load_file_name is not None:\n",
        "      self.model = keras.models.load_model(self.directory + load_file_name + \".h5\")\n",
        "    else:\n",
        "      self.model = keras.models.Sequential()\n",
        "      input_layer = layers.InputLayer(input_shape=[28, 28, 1])\n",
        "      self.model.add(input_layer)\n",
        "      if name is \"A\":\n",
        "        self.model.add(layers.Conv2D(64, 5, activation='relu', padding='same' ))\n",
        "        self.model.add(layers.Conv2D(64, 5, activation='relu', padding='same'))\n",
        "        self.model.add(layers.Dropout(0.25))\n",
        "        self.model.add(layers.Flatten())\n",
        "        self.model.add(layers.Dense(128, activation='relu'))\n",
        "        self.model.add(layers.Dropout(0.5))\n",
        "        self.model.add(layers.Dense(10, activation='softmax'))\n",
        "      elif name is \"B\":\n",
        "        self.model.add(layers.Dropout(0.2))\n",
        "        self.model.add(layers.Conv2D(64, 8, activation='relu', padding='same'))\n",
        "        self.model.add(layers.Conv2D(128, 6, activation='relu', padding='same'))\n",
        "        self.model.add(layers.Conv2D(128, 5, activation='relu', padding='same'))\n",
        "        self.model.add(layers.Dropout(0.5))\n",
        "        self.model.add(layers.Flatten())\n",
        "        self.model.add(layers.Dense(10, activation='softmax'))\n",
        "      elif name is \"C\":\n",
        "        self.model.add(layers.Conv2D(128, 3, activation='tanh', padding='same' ))\n",
        "        self.model.add(layers.MaxPool2D(pool_size=(2, 2)))\n",
        "        self.model.add(layers.Conv2D(64, 3, activation='tanh', padding='same'))\n",
        "        self.model.add(layers.MaxPool2D(pool_size=(2, 2)))\n",
        "        self.model.add(layers.Flatten())\n",
        "        self.model.add(layers.Dense(128, activation='relu'))\n",
        "        self.model.add(layers.Dense(10, activation='softmax'))\n",
        "      elif name is \"D\":\n",
        "        self.model.add(layers.Flatten())\n",
        "        self.model.add(layers.Dense(300, activation='relu'))\n",
        "        self.model.add(layers.Dropout(0.5))\n",
        "        self.model.add(layers.Dense(300, activation='relu'))\n",
        "        self.model.add(layers.Dropout(0.5))\n",
        "        self.model.add(layers.Dense(300, activation='relu'))\n",
        "        self.model.add(layers.Dropout(0.5))\n",
        "        self.model.add(layers.Dense(300, activation='relu'))\n",
        "        self.model.add(layers.Dropout(0.5))\n",
        "        self.model.add(layers.Dense(10, activation='softmax'))\n",
        "      else:\n",
        "        print(\"Invalid Model Name!\")\n",
        "        return\n",
        "\n",
        "      self.model.compile(optimizer='adam', loss=keras.losses.CategoricalCrossentropy(), metrics=['accuracy'])\n",
        "    if show_summary:\n",
        "      self.model.summary()\n",
        "  \n",
        "  def get_signed_gradient(self, input_image, input_label, loss_object=keras.losses.CategoricalCrossentropy()):\n",
        "    with tf.GradientTape() as tape:\n",
        "      tape.watch(input_image)\n",
        "      prediction = self.model(input_image)\n",
        "      loss = loss_object(input_label, prediction)\n",
        "    gradient = tape.gradient(loss, input_image)\n",
        "    signed_grad = tf.sign(gradient)\n",
        "    return signed_grad\n",
        "\n",
        "  def fgsm(self, input_image, input_label, iteration_number=1, epsilon=0.3, alpha=None):\n",
        "    cur_image = input_image\n",
        "    for i in range(iteration_number):\n",
        "      if alpha is not None:\n",
        "        assert alpha < epsilon\n",
        "        cur_image = cur_image + alpha * np.random.rand(input_image.shape[0], input_image.shape[1], input_image.shape[2], input_image.shape[3])\n",
        "      signed_grad = self.get_signed_gradient(tf.convert_to_tensor(cur_image), tf.convert_to_tensor(input_label))\n",
        "      if alpha is None:\n",
        "        cur_image = cur_image + signed_grad * (epsilon/iteration_number)\n",
        "      else:\n",
        "        cur_image = cur_image + signed_grad * ((epsilon - alpha)/iteration_number)\n",
        "      cur_image = np.clip(cur_image, 0.0, 1.0)\n",
        "    return cur_image, input_label\n",
        "\n",
        "\n",
        "  def accuracy(self, true_label, prediction):\n",
        "    return np.sum(np.argmax(true_label, axis=1) == np.argmax(prediction, axis=1)) / prediction.shape[0]\n",
        "\n",
        "  def adversarial_training(self, x, y, fgsm_iteration=1, epsilon=0.3, batch_size=100, epoch_no=12, save_file_name=None):\n",
        "    assert x.shape[0] == y.shape[0]\n",
        "    for epoch in range(epoch_no):\n",
        "      loss_iter = []\n",
        "      acc_iter = []\n",
        "      for i in range(x.shape[0]//batch_size):\n",
        "        batch_x = x[i * batch_size:(i+1)*batch_size, :, :, :]\n",
        "        batch_y = y[i * batch_size:(i+1)*batch_size, :]\n",
        "\n",
        "        adv_batch_x, _ = self.fgsm(batch_x, batch_y, iteration_number=fgsm_iteration, epsilon=epsilon)\n",
        "\n",
        "        batch_x = np.concatenate((batch_x, adv_batch_x))\n",
        "        batch_y = np.concatenate((batch_y, batch_y))\n",
        "\n",
        "        hist = self.model.fit(batch_x, batch_y, batch_size=batch_size, verbose=0, epochs=1)\n",
        "        loss_iter.append(hist.history['loss'])\n",
        "        acc_iter.append(hist.history['accuracy'])\n",
        "      print(\"Epoch {}-> Loss:{} Accuracy:{}\".format(epoch+1, np.mean(loss_iter), np.mean(acc_iter)))\n",
        "    \n",
        "    if save_file_name is not None:\n",
        "      import os\n",
        "      if not os.path.exists(self.directory):\n",
        "        os.makedirs(self.directory)\n",
        "      self.model.save(self.directory + save_file_name + \".h5\")\n",
        "\n",
        "  def adversarial_attack(self, x, y, fgsm_iteration=1, epsilon=0.3, alpha=None, random=None, batch_size=100, loss_object=keras.losses.CategoricalCrossentropy()):\n",
        "    losses = []\n",
        "    accs = []\n",
        "    for i in tqdm(range(x.shape[0] // batch_size)):\n",
        "      batch_x = x[i * batch_size:(i+1)*batch_size, :, :, :]\n",
        "      batch_y = y[i * batch_size:(i+1)*batch_size, :]\n",
        "\n",
        "      x_adv, _ = self.fgsm(batch_x, batch_y, iteration_number=fgsm_iteration, epsilon=epsilon, alpha=alpha) \n",
        "\n",
        "      predictions = self.model.predict(x_adv)\n",
        "      loss = loss_object(batch_y, predictions)\n",
        "\n",
        "      p = np.argmax(predictions, axis=1)\n",
        "      b = np.argmax(batch_y, axis=1)\n",
        "\n",
        "      correct_num = np.sum(np.argmax(predictions, axis=1) == np.argmax(batch_y, axis=1))\n",
        "      acc = correct_num / predictions.shape[0]\n",
        "      losses.append(loss)\n",
        "      accs.append(acc)\n",
        "\n",
        "    return np.mean(accs), np.mean(losses)\n",
        "\n",
        "  def train(self, x_train, y_train, x_test, y_test, batch_size=100, epoch=6, save_file_name=None):\n",
        "    #cp_callback = keras.callbacks.ModelCheckpoint(filepath=directory + \"cp.ckpt\", save_weights_only=True, verbose=0, save_freq=epoch)\n",
        "    history = self.model.fit(x_train, y_train, epochs=epoch, validation_data=(x_test, y_test), batch_size=100)\n",
        "    if save_file_name is not None:\n",
        "      import os\n",
        "      if not os.path.exists(self.directory):\n",
        "        os.makedirs(self.directory)\n",
        "      self.model.save(self.directory + save_file_name + \".h5\")\n",
        "\n",
        "  #TODO:ya pgd eklenecek yada yeni fonksiyon yazılacak\n",
        "  def generate_adversarial_examples(self, x, y, fgsm_iteration=1, batch_size=100, epsilon=0.3, save_adversarial_images=None):\n",
        "\n",
        "    adv_examples = np.zeros(shape=x.shape)\n",
        "    \n",
        "    for i in tqdm(range(x.shape[0] // batch_size)):\n",
        "      batch_x = x[i * batch_size:(i+1)*batch_size, :, :, :]\n",
        "      batch_y = y[i * batch_size:(i+1)*batch_size, :]\n",
        "\n",
        "      x_adv, _ = self.fgsm(batch_x, batch_y, iteration_number=fgsm_iteration, epsilon=epsilon) \n",
        "\n",
        "      adv_examples[i * batch_size:(i+1)*batch_size, :, :, :] = x_adv\n",
        "\n",
        "    if save_adversarial_images is not None:\n",
        "      np.save(self.directory + save_adversarial_images + \"_x.npy\", adv_examples)\n",
        "      np.save(self.directory + save_adversarial_images + \"_y.npy\", y)\n",
        "\n",
        "    return adv_examples, y\n",
        "\n",
        "  def evaluate(self, x, y):\n",
        "    prediction = self.model.predict(x)\n",
        "    loss_object=keras.losses.CategoricalCrossentropy()\n",
        "    loss = loss_object(y, prediction)\n",
        "    return prediction, self.accuracy(y, prediction), loss\n"
      ],
      "execution_count": null,
      "outputs": []
    },
    {
      "cell_type": "markdown",
      "metadata": {
        "id": "TIpL2xgnqhAO",
        "colab_type": "text"
      },
      "source": [
        "# Fetch and preprocess the data"
      ]
    },
    {
      "cell_type": "code",
      "metadata": {
        "id": "FNkmbY5haGit",
        "colab_type": "code",
        "colab": {
          "base_uri": "https://localhost:8080/",
          "height": 194
        },
        "outputId": "ea456de3-b09e-48ec-d21f-33b09c4fdd26"
      },
      "source": [
        "mnist = keras.datasets.mnist;\n",
        "\n",
        "(x_train, y_train), (x_test, y_test) = mnist.load_data()\n",
        "print(y_train[0])\n",
        "\n",
        "x_train = np.asarray(x_train).reshape((-1, 28, 28, 1))\n",
        "x_test = np.asarray(x_test).reshape((-1, 28, 28, 1))\n",
        "\n",
        "y_train = keras.utils.to_categorical(y_train, 10)\n",
        "y_test = keras.utils.to_categorical(y_test, 10)\n",
        "print(y_test)\n",
        "\n",
        "x_train, x_test = x_train / 255.0, x_test / 255.0\n"
      ],
      "execution_count": null,
      "outputs": [
        {
          "output_type": "stream",
          "text": [
            "Downloading data from https://storage.googleapis.com/tensorflow/tf-keras-datasets/mnist.npz\n",
            "11493376/11490434 [==============================] - 0s 0us/step\n",
            "5\n",
            "[[0. 0. 0. ... 1. 0. 0.]\n",
            " [0. 0. 1. ... 0. 0. 0.]\n",
            " [0. 1. 0. ... 0. 0. 0.]\n",
            " ...\n",
            " [0. 0. 0. ... 0. 0. 0.]\n",
            " [0. 0. 0. ... 0. 0. 0.]\n",
            " [0. 0. 0. ... 0. 0. 0.]]\n"
          ],
          "name": "stdout"
        }
      ]
    },
    {
      "cell_type": "code",
      "metadata": {
        "id": "Bq6f5gRJ72L-",
        "colab_type": "code",
        "colab": {
          "base_uri": "https://localhost:8080/",
          "height": 425
        },
        "outputId": "b0b51dab-1dd4-4d78-986b-42c9abe1396b"
      },
      "source": [
        "model = AdvModel(\"A\")\n",
        "model.train(x_train, y_train, x_test, y_test, epoch=1)\n",
        "im, label = model.fgsm(x_test[:10], y_test[0:10])\n",
        "p, a, _ = model.evaluate(im, label)\n",
        "\n",
        "\n"
      ],
      "execution_count": null,
      "outputs": [
        {
          "output_type": "stream",
          "text": [
            "Model: \"sequential_1\"\n",
            "_________________________________________________________________\n",
            "Layer (type)                 Output Shape              Param #   \n",
            "=================================================================\n",
            "conv2d_2 (Conv2D)            (None, 28, 28, 64)        1664      \n",
            "_________________________________________________________________\n",
            "conv2d_3 (Conv2D)            (None, 28, 28, 64)        102464    \n",
            "_________________________________________________________________\n",
            "dropout_2 (Dropout)          (None, 28, 28, 64)        0         \n",
            "_________________________________________________________________\n",
            "flatten_1 (Flatten)          (None, 50176)             0         \n",
            "_________________________________________________________________\n",
            "dense_2 (Dense)              (None, 128)               6422656   \n",
            "_________________________________________________________________\n",
            "dropout_3 (Dropout)          (None, 128)               0         \n",
            "_________________________________________________________________\n",
            "dense_3 (Dense)              (None, 10)                1290      \n",
            "=================================================================\n",
            "Total params: 6,528,074\n",
            "Trainable params: 6,528,074\n",
            "Non-trainable params: 0\n",
            "_________________________________________________________________\n",
            "600/600 [==============================] - 5s 9ms/step - loss: 0.1720 - accuracy: 0.9476 - val_loss: 0.0386 - val_accuracy: 0.9882\n"
          ],
          "name": "stdout"
        }
      ]
    },
    {
      "cell_type": "code",
      "metadata": {
        "id": "8G_LpQJgDo14",
        "colab_type": "code",
        "colab": {
          "base_uri": "https://localhost:8080/",
          "height": 215
        },
        "outputId": "ccf8471f-9f20-4a2e-880a-06ea770e3c84"
      },
      "source": [
        "\n",
        "f = plt.figure()\n",
        "f.add_subplot(1,2, 1)\n",
        "plt.title(\"Original label : 7\")\n",
        "plt.imshow(np.squeeze(x_test[0]), cmap='gray')\n",
        "f.add_subplot(1,2, 2)\n",
        "plt.title(\"Prediction: {}\".format(np.argmax(p[0])))\n",
        "plt.imshow(np.squeeze(im[0]), cmap='gray')\n",
        "plt.savefig(\"prediction.jpg\")\n",
        "plt.show(block=True)\n",
        "\n",
        "\n"
      ],
      "execution_count": null,
      "outputs": [
        {
          "output_type": "display_data",
          "data": {
            "image/png": "[encoded data removed]",
            "text/plain": [
              "<Figure size 432x288 with 2 Axes>"
            ]
          },
          "metadata": {
            "tags": [],
            "needs_background": "light"
          }
        }
      ]
    },
    {
      "cell_type": "code",
      "metadata": {
        "id": "LsmLwtfr9GIh",
        "colab_type": "code",
        "colab": {
          "base_uri": "https://localhost:8080/",
          "height": 282
        },
        "outputId": "dab2393d-5668-435e-d14f-674972ec45ea"
      },
      "source": [
        "im, y = model.generate_adversarial_examples(x_test[0:100], y_test[0:100])\n",
        "plt.figure()\n",
        "plt.imshow(np.squeeze(im[0]), cmap='gray')\n",
        "plt.show()"
      ],
      "execution_count": null,
      "outputs": [
        {
          "output_type": "stream",
          "text": [
            "100%|██████████| 1/1 [00:00<00:00, 21.32it/s]\n"
          ],
          "name": "stderr"
        },
        {
          "output_type": "display_data",
          "data": {
            "image/png": "[encoded data removed]",
            "text/plain": [
              "<Figure size 432x288 with 1 Axes>"
            ]
          },
          "metadata": {
            "tags": [],
            "needs_background": "light"
          }
        }
      ]
    },
    {
      "cell_type": "markdown",
      "metadata": {
        "id": "YwKdwnTaqmqY",
        "colab_type": "text"
      },
      "source": [
        "# Regularly Train Models"
      ]
    },
    {
      "cell_type": "code",
      "metadata": {
        "id": "6D8DOF9etGof",
        "colab_type": "code",
        "colab": {}
      },
      "source": [
        "TRAIN_FILE_NAME = \"regular_train\"\n",
        "ADVERSARIAL_EXAMPLE_FILE_NAME = \"adversarial_examples\"\n",
        "ADVERSARIAL_EXAMPLE_PGD_FILE_NAME = \"pgd_adversarial_examples\"\n",
        "ADVERSARIAL_EXAMPLE_TRAIN_FILE_NAME = \"train_adversarial\"\n",
        "PERTURBATIONS_FILE_NAME = \"perturbations\"\n",
        "\n",
        "ADVERSARIAL_TRAINED_MODEL = \"adversarial_model\"\n",
        "ENSEMBLE_TRAINED_MODEL = \"all_ensemble_model\"\n",
        "SAME_ENSEMBLE_TRAINED_MODEL = \"same_ensemble_model\"\n",
        "\n",
        "def getDirectory(name):\n",
        "  return \"/content/gdrive/My Drive/Mmi 2nd semester/Deep Learning/Project/Model\" + name + \"/\"\n",
        "model_names = [\"A\", \"B\", \"C\", \"D\"]"
      ],
      "execution_count": null,
      "outputs": []
    },
    {
      "cell_type": "code",
      "metadata": {
        "id": "KWEW0E7aswTQ",
        "colab_type": "code",
        "colab": {
          "base_uri": "https://localhost:8080/",
          "height": 1000
        },
        "outputId": "21a8493e-de08-4f57-8e18-42832b351f8d"
      },
      "source": [
        "for model_name in model_names:\n",
        "  print(\"Model \" + model_name)\n",
        "  model = AdvModel(name=model_name)\n",
        "  #train and save the file\n",
        "  model.train(x_train, y_train, x_test, y_test, save_file_name=TRAIN_FILE_NAME)\n",
        "  #whitebox attack\n",
        "  accuracy, loss = model.adversarial_attack(x_test, y_test)\n",
        "  print(\"\\nWhite-box adversarial attack Accuracy {}, Loss {}\".format(accuracy, loss))\n",
        "  \n",
        "  model.generate_adversarial_examples(x_train, y_train, fgsm_iteration=1, save_adversarial_images=ADVERSARIAL_EXAMPLE_TRAIN_FILE_NAME)\n",
        "  print(\"Saved train set FGSM adversarial examples generated by \" + model_name)\n",
        "  model.generate_adversarial_examples(x_test, y_test, fgsm_iteration=1, save_adversarial_images=ADVERSARIAL_EXAMPLE_FILE_NAME)\n",
        "  print(\"Saved test set FGSM adversarial examples generated by \" + model_name)\n",
        "  model.generate_adversarial_examples(x_test, y_test, fgsm_iteration=16, save_adversarial_images=ADVERSARIAL_EXAMPLE_PGD_FILE_NAME)\n",
        "  print(\"Saved test set PGD adversarial examples generated by \" + model_name)\n",
        "  \n",
        "  print(\"Saved adversarial examples and perturbations\")\n",
        "\n"
      ],
      "execution_count": null,
      "outputs": [
        {
          "output_type": "stream",
          "text": [
            "Model A\n",
            "Model: \"sequential\"\n",
            "_________________________________________________________________\n",
            "Layer (type)                 Output Shape              Param #   \n",
            "=================================================================\n",
            "conv2d (Conv2D)              (None, 28, 28, 64)        1664      \n",
            "_________________________________________________________________\n",
            "conv2d_1 (Conv2D)            (None, 28, 28, 64)        102464    \n",
            "_________________________________________________________________\n",
            "dropout (Dropout)            (None, 28, 28, 64)        0         \n",
            "_________________________________________________________________\n",
            "flatten (Flatten)            (None, 50176)             0         \n",
            "_________________________________________________________________\n",
            "dense (Dense)                (None, 128)               6422656   \n",
            "_________________________________________________________________\n",
            "dropout_1 (Dropout)          (None, 128)               0         \n",
            "_________________________________________________________________\n",
            "dense_1 (Dense)              (None, 10)                1290      \n",
            "=================================================================\n",
            "Total params: 6,528,074\n",
            "Trainable params: 6,528,074\n",
            "Non-trainable params: 0\n",
            "_________________________________________________________________\n",
            "Epoch 1/6\n",
            "600/600 [==============================] - 5s 8ms/step - loss: 0.1779 - accuracy: 0.9462 - val_loss: 0.0393 - val_accuracy: 0.9870\n",
            "Epoch 2/6\n",
            "600/600 [==============================] - 5s 8ms/step - loss: 0.0650 - accuracy: 0.9811 - val_loss: 0.0307 - val_accuracy: 0.9890\n",
            "Epoch 3/6\n",
            "600/600 [==============================] - 5s 8ms/step - loss: 0.0446 - accuracy: 0.9864 - val_loss: 0.0269 - val_accuracy: 0.9913\n",
            "Epoch 4/6\n",
            "600/600 [==============================] - 5s 8ms/step - loss: 0.0359 - accuracy: 0.9892 - val_loss: 0.0315 - val_accuracy: 0.9895\n",
            "Epoch 5/6\n",
            "600/600 [==============================] - 5s 8ms/step - loss: 0.0312 - accuracy: 0.9905 - val_loss: 0.0235 - val_accuracy: 0.9927\n",
            "Epoch 6/6\n",
            "600/600 [==============================] - 5s 8ms/step - loss: 0.0252 - accuracy: 0.9925 - val_loss: 0.0245 - val_accuracy: 0.9927\n"
          ],
          "name": "stdout"
        },
        {
          "output_type": "stream",
          "text": [
            "100%|██████████| 100/100 [00:03<00:00, 26.37it/s]\n"
          ],
          "name": "stderr"
        },
        {
          "output_type": "stream",
          "text": [
            "\n",
            "White-box adversarial attack Accuracy 0.4841000000000001, Loss 2.8142621517181396\n",
            "Saved adversarial examples and perturbations\n",
            "Model B\n",
            "Model: \"sequential_1\"\n",
            "_________________________________________________________________\n",
            "Layer (type)                 Output Shape              Param #   \n",
            "=================================================================\n",
            "dropout_2 (Dropout)          (None, 28, 28, 1)         0         \n",
            "_________________________________________________________________\n",
            "conv2d_2 (Conv2D)            (None, 28, 28, 64)        4160      \n",
            "_________________________________________________________________\n",
            "conv2d_3 (Conv2D)            (None, 28, 28, 128)       295040    \n",
            "_________________________________________________________________\n",
            "conv2d_4 (Conv2D)            (None, 28, 28, 128)       409728    \n",
            "_________________________________________________________________\n",
            "dropout_3 (Dropout)          (None, 28, 28, 128)       0         \n",
            "_________________________________________________________________\n",
            "flatten_1 (Flatten)          (None, 100352)            0         \n",
            "_________________________________________________________________\n",
            "dense_2 (Dense)              (None, 10)                1003530   \n",
            "=================================================================\n",
            "Total params: 1,712,458\n",
            "Trainable params: 1,712,458\n",
            "Non-trainable params: 0\n",
            "_________________________________________________________________\n",
            "Epoch 1/6\n",
            "600/600 [==============================] - 16s 27ms/step - loss: 0.1358 - accuracy: 0.9583 - val_loss: 0.0477 - val_accuracy: 0.9844\n",
            "Epoch 2/6\n",
            "600/600 [==============================] - 16s 27ms/step - loss: 0.0557 - accuracy: 0.9829 - val_loss: 0.0404 - val_accuracy: 0.9869\n",
            "Epoch 3/6\n",
            "600/600 [==============================] - 16s 27ms/step - loss: 0.0428 - accuracy: 0.9869 - val_loss: 0.0302 - val_accuracy: 0.9910\n",
            "Epoch 4/6\n",
            "600/600 [==============================] - 16s 27ms/step - loss: 0.0346 - accuracy: 0.9889 - val_loss: 0.0288 - val_accuracy: 0.9906\n",
            "Epoch 5/6\n",
            "600/600 [==============================] - 16s 27ms/step - loss: 0.0296 - accuracy: 0.9906 - val_loss: 0.0275 - val_accuracy: 0.9904\n",
            "Epoch 6/6\n",
            "600/600 [==============================] - 16s 26ms/step - loss: 0.0255 - accuracy: 0.9921 - val_loss: 0.0263 - val_accuracy: 0.9917\n"
          ],
          "name": "stdout"
        },
        {
          "output_type": "stream",
          "text": [
            "100%|██████████| 100/100 [00:06<00:00, 16.25it/s]\n"
          ],
          "name": "stderr"
        },
        {
          "output_type": "stream",
          "text": [
            "\n",
            "White-box adversarial attack Accuracy 0.1407, Loss 4.599803447723389\n",
            "Saved adversarial examples and perturbations\n",
            "Model C\n",
            "Model: \"sequential_2\"\n",
            "_________________________________________________________________\n",
            "Layer (type)                 Output Shape              Param #   \n",
            "=================================================================\n",
            "conv2d_5 (Conv2D)            (None, 28, 28, 128)       1280      \n",
            "_________________________________________________________________\n",
            "max_pooling2d (MaxPooling2D) (None, 14, 14, 128)       0         \n",
            "_________________________________________________________________\n",
            "conv2d_6 (Conv2D)            (None, 14, 14, 64)        73792     \n",
            "_________________________________________________________________\n",
            "max_pooling2d_1 (MaxPooling2 (None, 7, 7, 64)          0         \n",
            "_________________________________________________________________\n",
            "flatten_2 (Flatten)          (None, 3136)              0         \n",
            "_________________________________________________________________\n",
            "dense_3 (Dense)              (None, 128)               401536    \n",
            "_________________________________________________________________\n",
            "dense_4 (Dense)              (None, 10)                1290      \n",
            "=================================================================\n",
            "Total params: 477,898\n",
            "Trainable params: 477,898\n",
            "Non-trainable params: 0\n",
            "_________________________________________________________________\n",
            "Epoch 1/6\n",
            "600/600 [==============================] - 3s 6ms/step - loss: 0.1571 - accuracy: 0.9535 - val_loss: 0.0493 - val_accuracy: 0.9842\n",
            "Epoch 2/6\n",
            "600/600 [==============================] - 3s 5ms/step - loss: 0.0443 - accuracy: 0.9865 - val_loss: 0.0394 - val_accuracy: 0.9859\n",
            "Epoch 3/6\n",
            "600/600 [==============================] - 3s 5ms/step - loss: 0.0273 - accuracy: 0.9911 - val_loss: 0.0382 - val_accuracy: 0.9884\n",
            "Epoch 4/6\n",
            "600/600 [==============================] - 3s 5ms/step - loss: 0.0200 - accuracy: 0.9937 - val_loss: 0.0432 - val_accuracy: 0.9868\n",
            "Epoch 5/6\n",
            "600/600 [==============================] - 3s 5ms/step - loss: 0.0142 - accuracy: 0.9954 - val_loss: 0.0323 - val_accuracy: 0.9896\n",
            "Epoch 6/6\n",
            "600/600 [==============================] - 3s 5ms/step - loss: 0.0138 - accuracy: 0.9953 - val_loss: 0.0370 - val_accuracy: 0.9886\n"
          ],
          "name": "stdout"
        },
        {
          "output_type": "stream",
          "text": [
            "100%|██████████| 100/100 [00:03<00:00, 28.11it/s]\n"
          ],
          "name": "stderr"
        },
        {
          "output_type": "stream",
          "text": [
            "\n",
            "White-box adversarial attack Accuracy 0.4010000000000001, Loss 9.310108184814453\n",
            "Saved adversarial examples and perturbations\n",
            "Model D\n",
            "Model: \"sequential_3\"\n",
            "_________________________________________________________________\n",
            "Layer (type)                 Output Shape              Param #   \n",
            "=================================================================\n",
            "flatten_3 (Flatten)          (None, 784)               0         \n",
            "_________________________________________________________________\n",
            "dense_5 (Dense)              (None, 300)               235500    \n",
            "_________________________________________________________________\n",
            "dropout_4 (Dropout)          (None, 300)               0         \n",
            "_________________________________________________________________\n",
            "dense_6 (Dense)              (None, 300)               90300     \n",
            "_________________________________________________________________\n",
            "dropout_5 (Dropout)          (None, 300)               0         \n",
            "_________________________________________________________________\n",
            "dense_7 (Dense)              (None, 300)               90300     \n",
            "_________________________________________________________________\n",
            "dropout_6 (Dropout)          (None, 300)               0         \n",
            "_________________________________________________________________\n",
            "dense_8 (Dense)              (None, 300)               90300     \n",
            "_________________________________________________________________\n",
            "dropout_7 (Dropout)          (None, 300)               0         \n",
            "_________________________________________________________________\n",
            "dense_9 (Dense)              (None, 10)                3010      \n",
            "=================================================================\n",
            "Total params: 509,410\n",
            "Trainable params: 509,410\n",
            "Non-trainable params: 0\n",
            "_________________________________________________________________\n",
            "Epoch 1/6\n",
            "600/600 [==============================] - 2s 3ms/step - loss: 0.6127 - accuracy: 0.8023 - val_loss: 0.1751 - val_accuracy: 0.9522\n",
            "Epoch 2/6\n",
            "600/600 [==============================] - 2s 3ms/step - loss: 0.2642 - accuracy: 0.9273 - val_loss: 0.1330 - val_accuracy: 0.9626\n",
            "Epoch 3/6\n",
            "600/600 [==============================] - 2s 3ms/step - loss: 0.2107 - accuracy: 0.9432 - val_loss: 0.1194 - val_accuracy: 0.9679\n",
            "Epoch 4/6\n",
            "600/600 [==============================] - 2s 3ms/step - loss: 0.1901 - accuracy: 0.9480 - val_loss: 0.1035 - val_accuracy: 0.9707\n",
            "Epoch 5/6\n",
            "600/600 [==============================] - 2s 3ms/step - loss: 0.1664 - accuracy: 0.9542 - val_loss: 0.0975 - val_accuracy: 0.9719\n",
            "Epoch 6/6\n",
            "600/600 [==============================] - 2s 3ms/step - loss: 0.1543 - accuracy: 0.9584 - val_loss: 0.0935 - val_accuracy: 0.9732\n"
          ],
          "name": "stdout"
        },
        {
          "output_type": "stream",
          "text": [
            "100%|██████████| 100/100 [00:03<00:00, 30.68it/s]"
          ],
          "name": "stderr"
        },
        {
          "output_type": "stream",
          "text": [
            "\n",
            "White-box adversarial attack Accuracy 0.0871, Loss 5.4871015548706055\n",
            "Saved adversarial examples and perturbations\n"
          ],
          "name": "stdout"
        },
        {
          "output_type": "stream",
          "text": [
            "\n"
          ],
          "name": "stderr"
        }
      ]
    },
    {
      "cell_type": "markdown",
      "metadata": {
        "id": "DsuQdGEHFTX3",
        "colab_type": "text"
      },
      "source": [
        "## Adversarial black-box attack"
      ]
    },
    {
      "cell_type": "code",
      "metadata": {
        "id": "gLIgQjSMFQfe",
        "colab_type": "code",
        "colab": {
          "base_uri": "https://localhost:8080/",
          "height": 878
        },
        "outputId": "cd6999a3-207e-46af-89e8-41a5eeba6959"
      },
      "source": [
        "for i in range(len(model_names)):\n",
        "  model_name = model_names[i]\n",
        "  print(\"Model \" + model_name)\n",
        "  model = AdvModel(model_name, load_file_name=TRAIN_FILE_NAME)\n",
        "\n",
        "  accuracy, loss = model.adversarial_attack(x_test, y_test, alpha=0.15)\n",
        "  print(\"White-box R+FGSM adversarial attack Accuracy {}, Loss {}\".format(accuracy, loss))\n",
        "\n",
        "  accuracy, loss = model.adversarial_attack(x_test, y_test)\n",
        "  print(\"White-box FGSM adversarial attack Accuracy {}, Loss {}\".format(accuracy, loss))\n",
        "\n",
        "  for j in range(len(model_names)):\n",
        "    if i is j:\n",
        "      continue\n",
        "    attack_model_name = model_names[j]\n",
        "    dataX = np.load(getDirectory(attack_model_name) + ADVERSARIAL_EXAMPLE_FILE_NAME + \"_x.npy\")\n",
        "    dataY = np.load(getDirectory(attack_model_name) + ADVERSARIAL_EXAMPLE_FILE_NAME + \"_y.npy\")\n",
        "    _, accuracy, loss = model.evaluate(dataX, dataY)\n",
        "    print(\"Block-box adversarial attack from Model \" + attack_model_name + \" Accuracy {}, Loss {}\".format(accuracy, loss))"
      ],
      "execution_count": null,
      "outputs": [
        {
          "output_type": "stream",
          "text": [
            "Model A\n"
          ],
          "name": "stdout"
        },
        {
          "output_type": "stream",
          "text": [
            "  1%|          | 1/100 [00:00<00:12,  8.03it/s]"
          ],
          "name": "stderr"
        },
        {
          "output_type": "stream",
          "text": [
            "Model: \"sequential\"\n",
            "_________________________________________________________________\n",
            "Layer (type)                 Output Shape              Param #   \n",
            "=================================================================\n",
            "conv2d (Conv2D)              (None, 28, 28, 64)        1664      \n",
            "_________________________________________________________________\n",
            "conv2d_1 (Conv2D)            (None, 28, 28, 64)        102464    \n",
            "_________________________________________________________________\n",
            "dropout (Dropout)            (None, 28, 28, 64)        0         \n",
            "_________________________________________________________________\n",
            "flatten (Flatten)            (None, 50176)             0         \n",
            "_________________________________________________________________\n",
            "dense (Dense)                (None, 128)               6422656   \n",
            "_________________________________________________________________\n",
            "dropout_1 (Dropout)          (None, 128)               0         \n",
            "_________________________________________________________________\n",
            "dense_1 (Dense)              (None, 10)                1290      \n",
            "=================================================================\n",
            "Total params: 6,528,074\n",
            "Trainable params: 6,528,074\n",
            "Non-trainable params: 0\n",
            "_________________________________________________________________\n"
          ],
          "name": "stdout"
        },
        {
          "output_type": "stream",
          "text": [
            "100%|██████████| 100/100 [00:07<00:00, 13.05it/s]\n",
            "  2%|▏         | 2/100 [00:00<00:07, 13.82it/s]"
          ],
          "name": "stderr"
        },
        {
          "output_type": "stream",
          "text": [
            "White-box R+FGSM adversarial attack Accuracy 0.4157, Loss 2.3670573234558105\n"
          ],
          "name": "stdout"
        },
        {
          "output_type": "stream",
          "text": [
            "100%|██████████| 100/100 [00:07<00:00, 13.37it/s]\n"
          ],
          "name": "stderr"
        },
        {
          "output_type": "stream",
          "text": [
            "White-box FGSM adversarial attack Accuracy 0.4837000000000002, Loss 2.818249225616455\n",
            "Block-box adversarial attack from Model B Accuracy 0.3242, Loss 4.204250335693359\n",
            "Block-box adversarial attack from Model C Accuracy 0.4385, Loss 4.245081901550293\n"
          ],
          "name": "stdout"
        },
        {
          "output_type": "error",
          "ename": "KeyboardInterrupt",
          "evalue": "ignored",
          "traceback": [
            "\u001b[0;31m---------------------------------------------------------------------------\u001b[0m",
            "\u001b[0;31mKeyboardInterrupt\u001b[0m                         Traceback (most recent call last)",
            "\u001b[0;32m<ipython-input-20-0390a0d3721f>\u001b[0m in \u001b[0;36m<module>\u001b[0;34m()\u001b[0m\n\u001b[1;32m     14\u001b[0m       \u001b[0;32mcontinue\u001b[0m\u001b[0;34m\u001b[0m\u001b[0;34m\u001b[0m\u001b[0m\n\u001b[1;32m     15\u001b[0m     \u001b[0mattack_model_name\u001b[0m \u001b[0;34m=\u001b[0m \u001b[0mmodel_names\u001b[0m\u001b[0;34m[\u001b[0m\u001b[0mj\u001b[0m\u001b[0;34m]\u001b[0m\u001b[0;34m\u001b[0m\u001b[0;34m\u001b[0m\u001b[0m\n\u001b[0;32m---> 16\u001b[0;31m     \u001b[0mdataX\u001b[0m \u001b[0;34m=\u001b[0m \u001b[0mnp\u001b[0m\u001b[0;34m.\u001b[0m\u001b[0mload\u001b[0m\u001b[0;34m(\u001b[0m\u001b[0mgetDirectory\u001b[0m\u001b[0;34m(\u001b[0m\u001b[0mattack_model_name\u001b[0m\u001b[0;34m)\u001b[0m \u001b[0;34m+\u001b[0m \u001b[0mADVERSARIAL_EXAMPLE_FILE_NAME\u001b[0m \u001b[0;34m+\u001b[0m \u001b[0;34m\"_x.npy\"\u001b[0m\u001b[0;34m)\u001b[0m\u001b[0;34m\u001b[0m\u001b[0;34m\u001b[0m\u001b[0m\n\u001b[0m\u001b[1;32m     17\u001b[0m     \u001b[0mdataY\u001b[0m \u001b[0;34m=\u001b[0m \u001b[0mnp\u001b[0m\u001b[0;34m.\u001b[0m\u001b[0mload\u001b[0m\u001b[0;34m(\u001b[0m\u001b[0mgetDirectory\u001b[0m\u001b[0;34m(\u001b[0m\u001b[0mattack_model_name\u001b[0m\u001b[0;34m)\u001b[0m \u001b[0;34m+\u001b[0m \u001b[0mADVERSARIAL_EXAMPLE_FILE_NAME\u001b[0m \u001b[0;34m+\u001b[0m \u001b[0;34m\"_y.npy\"\u001b[0m\u001b[0;34m)\u001b[0m\u001b[0;34m\u001b[0m\u001b[0;34m\u001b[0m\u001b[0m\n\u001b[1;32m     18\u001b[0m     \u001b[0m_\u001b[0m\u001b[0;34m,\u001b[0m \u001b[0maccuracy\u001b[0m\u001b[0;34m,\u001b[0m \u001b[0mloss\u001b[0m \u001b[0;34m=\u001b[0m \u001b[0mmodel\u001b[0m\u001b[0;34m.\u001b[0m\u001b[0mevaluate\u001b[0m\u001b[0;34m(\u001b[0m\u001b[0mdataX\u001b[0m\u001b[0;34m,\u001b[0m \u001b[0mdataY\u001b[0m\u001b[0;34m)\u001b[0m\u001b[0;34m\u001b[0m\u001b[0;34m\u001b[0m\u001b[0m\n",
            "\u001b[0;32m/usr/local/lib/python3.6/dist-packages/numpy/lib/npyio.py\u001b[0m in \u001b[0;36mload\u001b[0;34m(file, mmap_mode, allow_pickle, fix_imports, encoding)\u001b[0m\n\u001b[1;32m    434\u001b[0m         \u001b[0m_ZIP_SUFFIX\u001b[0m \u001b[0;34m=\u001b[0m \u001b[0;34mb'PK\\x05\\x06'\u001b[0m \u001b[0;31m# empty zip files start with this\u001b[0m\u001b[0;34m\u001b[0m\u001b[0;34m\u001b[0m\u001b[0m\n\u001b[1;32m    435\u001b[0m         \u001b[0mN\u001b[0m \u001b[0;34m=\u001b[0m \u001b[0mlen\u001b[0m\u001b[0;34m(\u001b[0m\u001b[0mformat\u001b[0m\u001b[0;34m.\u001b[0m\u001b[0mMAGIC_PREFIX\u001b[0m\u001b[0;34m)\u001b[0m\u001b[0;34m\u001b[0m\u001b[0;34m\u001b[0m\u001b[0m\n\u001b[0;32m--> 436\u001b[0;31m         \u001b[0mmagic\u001b[0m \u001b[0;34m=\u001b[0m \u001b[0mfid\u001b[0m\u001b[0;34m.\u001b[0m\u001b[0mread\u001b[0m\u001b[0;34m(\u001b[0m\u001b[0mN\u001b[0m\u001b[0;34m)\u001b[0m\u001b[0;34m\u001b[0m\u001b[0;34m\u001b[0m\u001b[0m\n\u001b[0m\u001b[1;32m    437\u001b[0m         \u001b[0;31m# If the file size is less than N, we need to make sure not\u001b[0m\u001b[0;34m\u001b[0m\u001b[0;34m\u001b[0m\u001b[0;34m\u001b[0m\u001b[0m\n\u001b[1;32m    438\u001b[0m         \u001b[0;31m# to seek past the beginning of the file\u001b[0m\u001b[0;34m\u001b[0m\u001b[0;34m\u001b[0m\u001b[0;34m\u001b[0m\u001b[0m\n",
            "\u001b[0;31mKeyboardInterrupt\u001b[0m: "
          ]
        }
      ]
    },
    {
      "cell_type": "code",
      "metadata": {
        "id": "2AuARsOPZ6gN",
        "colab_type": "code",
        "colab": {
          "base_uri": "https://localhost:8080/",
          "height": 1000
        },
        "outputId": "0dc5c60b-7637-4bce-eed3-406643a4f534"
      },
      "source": [
        "for i in range(len(model_names)):\n",
        "  model_name = model_names[i]\n",
        "  print(\"Model \" + model_name)\n",
        "  model = AdvModel(model_name)\n",
        "  model.adversarial_training(x_train, y_train)\n",
        "\n",
        "  accuracy, loss = model.adversarial_attack(x_test, y_test, alpha=0.15)\n",
        "  print(\"White-box R+FGSM adversarial attack Accuracy {}, Loss {}\".format(accuracy, loss))\n",
        "\n",
        "  accuracy, loss = model.adversarial_attack(x_test, y_test)\n",
        "  print(\"White-box FGSM adversarial attack Accuracy {}, Loss {}\".format(accuracy, loss))\n",
        "\n",
        "  for j in range(len(model_names)):\n",
        "    attack_model_name = model_names[j]\n",
        "    dataX = np.load(getDirectory(attack_model_name) + ADVERSARIAL_EXAMPLE_FILE_NAME + \"_x.npy\")\n",
        "    dataY = np.load(getDirectory(attack_model_name) + ADVERSARIAL_EXAMPLE_FILE_NAME + \"_y.npy\")\n",
        "    _, accuracy, loss = model.evaluate(dataX, dataY)\n",
        "    print(\"Block-box adversarial attack from Model \" + attack_model_name + \" Accuracy {}, Loss {}\".format(accuracy, loss))"
      ],
      "execution_count": null,
      "outputs": [
        {
          "output_type": "stream",
          "text": [
            "Model A\n",
            "Model: \"sequential_9\"\n",
            "_________________________________________________________________\n",
            "Layer (type)                 Output Shape              Param #   \n",
            "=================================================================\n",
            "conv2d_18 (Conv2D)           (None, 28, 28, 64)        1664      \n",
            "_________________________________________________________________\n",
            "conv2d_19 (Conv2D)           (None, 28, 28, 64)        102464    \n",
            "_________________________________________________________________\n",
            "dropout_18 (Dropout)         (None, 28, 28, 64)        0         \n",
            "_________________________________________________________________\n",
            "flatten_9 (Flatten)          (None, 50176)             0         \n",
            "_________________________________________________________________\n",
            "dense_18 (Dense)             (None, 128)               6422656   \n",
            "_________________________________________________________________\n",
            "dropout_19 (Dropout)         (None, 128)               0         \n",
            "_________________________________________________________________\n",
            "dense_19 (Dense)             (None, 10)                1290      \n",
            "=================================================================\n",
            "Total params: 6,528,074\n",
            "Trainable params: 6,528,074\n",
            "Non-trainable params: 0\n",
            "_________________________________________________________________\n",
            "Epoch 1-> Loss:0.42069361502615116 Accuracy:0.8665833339095116\n",
            "Epoch 2-> Loss:0.13321134680261215 Accuracy:0.959691667954127\n",
            "Epoch 3-> Loss:0.10073023636902993 Accuracy:0.969366672138373\n",
            "Epoch 4-> Loss:0.050103046018824295 Accuracy:0.9850083440542221\n",
            "Epoch 5-> Loss:0.03850429652527964 Accuracy:0.9881416760881742\n",
            "Epoch 6-> Loss:0.03554544698134123 Accuracy:0.9885833428303401\n",
            "Epoch 7-> Loss:0.047340576830902134 Accuracy:0.9856333414713542\n",
            "Epoch 8-> Loss:0.028598905211353363 Accuracy:0.9911416749159495\n",
            "Epoch 9-> Loss:0.032208367753725424 Accuracy:0.9903250074386597\n",
            "Epoch 10-> Loss:0.022247130211162584 Accuracy:0.9930166732271513\n",
            "Epoch 11-> Loss:0.023043490963051833 Accuracy:0.9930000062783559\n"
          ],
          "name": "stdout"
        },
        {
          "output_type": "stream",
          "text": [
            "  1%|          | 1/100 [00:00<00:10,  9.20it/s]"
          ],
          "name": "stderr"
        },
        {
          "output_type": "stream",
          "text": [
            "Epoch 12-> Loss:0.021828279847195518 Accuracy:0.9929833396275838\n"
          ],
          "name": "stdout"
        },
        {
          "output_type": "stream",
          "text": [
            "100%|██████████| 100/100 [00:07<00:00, 14.23it/s]\n",
            "  2%|▏         | 2/100 [00:00<00:07, 13.59it/s]"
          ],
          "name": "stderr"
        },
        {
          "output_type": "stream",
          "text": [
            "White-box R+FGSM adversarial attack Accuracy 0.6689000000000002, Loss 2.7534258365631104\n"
          ],
          "name": "stdout"
        },
        {
          "output_type": "stream",
          "text": [
            "100%|██████████| 100/100 [00:07<00:00, 13.21it/s]\n"
          ],
          "name": "stderr"
        },
        {
          "output_type": "stream",
          "text": [
            "White-box FGSM adversarial attack Accuracy 0.9972, Loss 0.012402910739183426\n",
            "Block-box adversarial attack from Model A Accuracy 0.6931, Loss 4.81382417678833\n",
            "Block-box adversarial attack from Model B Accuracy 0.3064, Loss 10.84823226928711\n",
            "Block-box adversarial attack from Model C Accuracy 0.4305, Loss 8.979379653930664\n",
            "Block-box adversarial attack from Model D Accuracy 0.4947, Loss 6.457332134246826\n",
            "Model B\n",
            "Model: \"sequential_10\"\n",
            "_________________________________________________________________\n",
            "Layer (type)                 Output Shape              Param #   \n",
            "=================================================================\n",
            "dropout_20 (Dropout)         (None, 28, 28, 1)         0         \n",
            "_________________________________________________________________\n",
            "conv2d_20 (Conv2D)           (None, 28, 28, 64)        4160      \n",
            "_________________________________________________________________\n",
            "conv2d_21 (Conv2D)           (None, 28, 28, 128)       295040    \n",
            "_________________________________________________________________\n",
            "conv2d_22 (Conv2D)           (None, 28, 28, 128)       409728    \n",
            "_________________________________________________________________\n",
            "dropout_21 (Dropout)         (None, 28, 28, 128)       0         \n",
            "_________________________________________________________________\n",
            "flatten_10 (Flatten)         (None, 100352)            0         \n",
            "_________________________________________________________________\n",
            "dense_20 (Dense)             (None, 10)                1003530   \n",
            "=================================================================\n",
            "Total params: 1,712,458\n",
            "Trainable params: 1,712,458\n",
            "Non-trainable params: 0\n",
            "_________________________________________________________________\n",
            "Epoch 1-> Loss:0.3832800595702914 Accuracy:0.8760250002890825\n",
            "Epoch 2-> Loss:0.12106502791983076 Accuracy:0.9619166694084803\n",
            "Epoch 3-> Loss:0.08875938853864986 Accuracy:0.9716916729013125\n",
            "Epoch 4-> Loss:0.061819821347501906 Accuracy:0.9803916771213214\n",
            "Epoch 5-> Loss:0.06068382204461765 Accuracy:0.980708343287309\n",
            "Epoch 6-> Loss:0.05502290489103567 Accuracy:0.982050010462602\n",
            "Epoch 7-> Loss:0.05093745965117705 Accuracy:0.9836083434025447\n",
            "Epoch 8-> Loss:0.050472120451643905 Accuracy:0.9836166767279307\n",
            "Epoch 9-> Loss:0.03753530026132163 Accuracy:0.9875916756192843\n",
            "Epoch 10-> Loss:0.029933098558394704 Accuracy:0.9902416741847992\n",
            "Epoch 11-> Loss:0.029517125302694087 Accuracy:0.9904250085353852\n"
          ],
          "name": "stdout"
        },
        {
          "output_type": "stream",
          "text": [
            "\r  0%|          | 0/100 [00:00<?, ?it/s]"
          ],
          "name": "stderr"
        },
        {
          "output_type": "stream",
          "text": [
            "Epoch 12-> Loss:0.030573874848147775 Accuracy:0.9902000079552332\n"
          ],
          "name": "stdout"
        },
        {
          "output_type": "stream",
          "text": [
            "100%|██████████| 100/100 [00:16<00:00,  5.90it/s]\n",
            "  1%|          | 1/100 [00:00<00:15,  6.19it/s]"
          ],
          "name": "stderr"
        },
        {
          "output_type": "stream",
          "text": [
            "White-box R+FGSM adversarial attack Accuracy 0.569, Loss 2.297996759414673\n"
          ],
          "name": "stdout"
        },
        {
          "output_type": "stream",
          "text": [
            "100%|██████████| 100/100 [00:16<00:00,  5.91it/s]\n"
          ],
          "name": "stderr"
        },
        {
          "output_type": "stream",
          "text": [
            "White-box FGSM adversarial attack Accuracy 0.9833, Loss 0.06012984365224838\n",
            "Block-box adversarial attack from Model A Accuracy 0.739, Loss 3.056544542312622\n",
            "Block-box adversarial attack from Model B Accuracy 0.5463, Loss 4.576071739196777\n",
            "Block-box adversarial attack from Model C Accuracy 0.5661, Loss 4.799777030944824\n",
            "Block-box adversarial attack from Model D Accuracy 0.6549, Loss 2.7576112747192383\n",
            "Model C\n",
            "Model: \"sequential_11\"\n",
            "_________________________________________________________________\n",
            "Layer (type)                 Output Shape              Param #   \n",
            "=================================================================\n",
            "conv2d_23 (Conv2D)           (None, 28, 28, 128)       1280      \n",
            "_________________________________________________________________\n",
            "max_pooling2d (MaxPooling2D) (None, 14, 14, 128)       0         \n",
            "_________________________________________________________________\n",
            "conv2d_24 (Conv2D)           (None, 14, 14, 64)        73792     \n",
            "_________________________________________________________________\n",
            "max_pooling2d_1 (MaxPooling2 (None, 7, 7, 64)          0         \n",
            "_________________________________________________________________\n",
            "flatten_11 (Flatten)         (None, 3136)              0         \n",
            "_________________________________________________________________\n",
            "dense_21 (Dense)             (None, 128)               401536    \n",
            "_________________________________________________________________\n",
            "dense_22 (Dense)             (None, 10)                1290      \n",
            "=================================================================\n",
            "Total params: 477,898\n",
            "Trainable params: 477,898\n",
            "Non-trainable params: 0\n",
            "_________________________________________________________________\n",
            "Epoch 1-> Loss:0.3583149490862464 Accuracy:0.8880166664719582\n",
            "Epoch 2-> Loss:0.07559179753880016 Accuracy:0.9768166754643123\n",
            "Epoch 3-> Loss:0.04625796034699306 Accuracy:0.9854833433032035\n",
            "Epoch 4-> Loss:0.040500720507552615 Accuracy:0.987325009405613\n",
            "Epoch 5-> Loss:0.035329660409370266 Accuracy:0.9888000083963077\n",
            "Epoch 6-> Loss:0.028730846246883934 Accuracy:0.9911083405216535\n",
            "Epoch 7-> Loss:0.02389656453257582 Accuracy:0.9925833403070767\n",
            "Epoch 8-> Loss:0.021955638684206254 Accuracy:0.9928416726986568\n",
            "Epoch 9-> Loss:0.023254304262025207 Accuracy:0.9927250056465466\n",
            "Epoch 10-> Loss:0.018963851789544038 Accuracy:0.99391667197148\n",
            "Epoch 11-> Loss:0.014037015656857268 Accuracy:0.9955750038226445\n"
          ],
          "name": "stdout"
        },
        {
          "output_type": "stream",
          "text": [
            "  1%|          | 1/100 [00:00<00:17,  5.69it/s]"
          ],
          "name": "stderr"
        },
        {
          "output_type": "stream",
          "text": [
            "Epoch 12-> Loss:0.017379668544703956 Accuracy:0.9944750049710274\n"
          ],
          "name": "stdout"
        },
        {
          "output_type": "stream",
          "text": [
            "100%|██████████| 100/100 [00:07<00:00, 13.76it/s]\n",
            "  2%|▏         | 2/100 [00:00<00:07, 13.41it/s]"
          ],
          "name": "stderr"
        },
        {
          "output_type": "stream",
          "text": [
            "White-box R+FGSM adversarial attack Accuracy 0.24960000000000002, Loss 9.788789749145508\n"
          ],
          "name": "stdout"
        },
        {
          "output_type": "stream",
          "text": [
            "100%|██████████| 100/100 [00:07<00:00, 13.32it/s]\n"
          ],
          "name": "stderr"
        },
        {
          "output_type": "stream",
          "text": [
            "White-box FGSM adversarial attack Accuracy 0.9948, Loss 0.018403736874461174\n",
            "Block-box adversarial attack from Model A Accuracy 0.7752, Loss 1.3292542695999146\n",
            "Block-box adversarial attack from Model B Accuracy 0.6016, Loss 2.186602830886841\n",
            "Block-box adversarial attack from Model C Accuracy 0.7989, Loss 0.977613091468811\n",
            "Block-box adversarial attack from Model D Accuracy 0.6667, Loss 1.883243203163147\n",
            "Model D\n",
            "Model: \"sequential_12\"\n",
            "_________________________________________________________________\n",
            "Layer (type)                 Output Shape              Param #   \n",
            "=================================================================\n",
            "flatten_12 (Flatten)         (None, 784)               0         \n",
            "_________________________________________________________________\n",
            "dense_23 (Dense)             (None, 300)               235500    \n",
            "_________________________________________________________________\n",
            "dropout_22 (Dropout)         (None, 300)               0         \n",
            "_________________________________________________________________\n",
            "dense_24 (Dense)             (None, 300)               90300     \n",
            "_________________________________________________________________\n",
            "dropout_23 (Dropout)         (None, 300)               0         \n",
            "_________________________________________________________________\n",
            "dense_25 (Dense)             (None, 300)               90300     \n",
            "_________________________________________________________________\n",
            "dropout_24 (Dropout)         (None, 300)               0         \n",
            "_________________________________________________________________\n",
            "dense_26 (Dense)             (None, 300)               90300     \n",
            "_________________________________________________________________\n",
            "dropout_25 (Dropout)         (None, 300)               0         \n",
            "_________________________________________________________________\n",
            "dense_27 (Dense)             (None, 10)                3010      \n",
            "=================================================================\n",
            "Total params: 509,410\n",
            "Trainable params: 509,410\n",
            "Non-trainable params: 0\n",
            "_________________________________________________________________\n",
            "Epoch 1-> Loss:1.3695323291420936 Accuracy:0.5490833330899477\n",
            "Epoch 2-> Loss:1.0351610125104587 Accuracy:0.6832333326339721\n",
            "Epoch 3-> Loss:0.9596904309590658 Accuracy:0.7050083330273629\n",
            "Epoch 4-> Loss:0.9020619367559751 Accuracy:0.7225166675448418\n",
            "Epoch 5-> Loss:0.8641272177795569 Accuracy:0.7368500010172526\n",
            "Epoch 6-> Loss:0.8329781299829483 Accuracy:0.748758333226045\n",
            "Epoch 7-> Loss:0.8148223707079887 Accuracy:0.7531583334008852\n",
            "Epoch 8-> Loss:0.7856375747919082 Accuracy:0.7621333329876264\n",
            "Epoch 9-> Loss:0.7734867217143376 Accuracy:0.7680083327492078\n",
            "Epoch 10-> Loss:0.7619708776970704 Accuracy:0.7705166653792064\n",
            "Epoch 11-> Loss:0.7484129330019156 Accuracy:0.7749166663487752\n"
          ],
          "name": "stdout"
        },
        {
          "output_type": "stream",
          "text": [
            "  2%|▏         | 2/100 [00:00<00:06, 14.33it/s]"
          ],
          "name": "stderr"
        },
        {
          "output_type": "stream",
          "text": [
            "Epoch 12-> Loss:0.7442305644353231 Accuracy:0.7759333324432373\n"
          ],
          "name": "stdout"
        },
        {
          "output_type": "stream",
          "text": [
            "100%|██████████| 100/100 [00:04<00:00, 20.77it/s]\n",
            "  3%|▎         | 3/100 [00:00<00:04, 22.49it/s]"
          ],
          "name": "stderr"
        },
        {
          "output_type": "stream",
          "text": [
            "White-box R+FGSM adversarial attack Accuracy 0.045899999999999996, Loss 4.088164806365967\n"
          ],
          "name": "stdout"
        },
        {
          "output_type": "stream",
          "text": [
            "100%|██████████| 100/100 [00:04<00:00, 21.52it/s]\n"
          ],
          "name": "stderr"
        },
        {
          "output_type": "stream",
          "text": [
            "White-box FGSM adversarial attack Accuracy 0.6244999999999999, Loss 1.1845892667770386\n",
            "Block-box adversarial attack from Model A Accuracy 0.7526, Loss 1.2041257619857788\n",
            "Block-box adversarial attack from Model B Accuracy 0.4106, Loss 2.0555334091186523\n",
            "Block-box adversarial attack from Model C Accuracy 0.5878, Loss 2.1227171421051025\n",
            "Block-box adversarial attack from Model D Accuracy 0.5696, Loss 2.2944037914276123\n"
          ],
          "name": "stdout"
        }
      ]
    },
    {
      "cell_type": "markdown",
      "metadata": {
        "id": "SW7RrUmdElBt",
        "colab_type": "text"
      },
      "source": [
        "# Adversarial Training"
      ]
    },
    {
      "cell_type": "markdown",
      "metadata": {
        "id": "qv4F3CLEkKvV",
        "colab_type": "text"
      },
      "source": [
        "# Adversarial Training with perturbations of another model with the same architecture"
      ]
    },
    {
      "cell_type": "markdown",
      "metadata": {
        "id": "kQPSFxM2p56-",
        "colab_type": "text"
      },
      "source": [
        "## First create a random black-box attack data set from the previously generated adversarial examples"
      ]
    },
    {
      "cell_type": "code",
      "metadata": {
        "id": "Ee4LfBh5qG3B",
        "colab_type": "code",
        "colab": {
          "base_uri": "https://localhost:8080/",
          "height": 34
        },
        "outputId": "b5785787-009c-49e3-a01c-76635b6f1ab1"
      },
      "source": [
        "from sklearn.model_selection import train_test_split \n",
        "\n",
        "bb_fgms_x = None\n",
        "bb_fgsm_y = None\n",
        "\n",
        "for model_name in model_names:\n",
        "  x_data = np.load(getDirectory(model_name) + ADVERSARIAL_EXAMPLE_FILE_NAME + \"_x.npy\")\n",
        "  y_data = np.load(getDirectory(model_name) + ADVERSARIAL_EXAMPLE_FILE_NAME + \"_y.npy\")\n",
        "  \n",
        "  x_split, _, y_split, _ = train_test_split(x_data, y_data, test_size=0.75, random_state=42)\n",
        "  if bb_fgms_x is None:\n",
        "    bb_fgms_x = x_split\n",
        "    bb_fgsm_y = y_split\n",
        "  else:\n",
        "    bb_fgms_x = np.concatenate((bb_fgms_x, x_split))\n",
        "    bb_fgsm_y = np.concatenate((bb_fgsm_y, y_split))\n",
        "\n",
        "bb_pgd_x = None\n",
        "bb_pgd_y = None\n",
        "\n",
        "for model_name in model_names:\n",
        "  x_data = np.load(getDirectory(model_name) + ADVERSARIAL_EXAMPLE_PGD_FILE_NAME + \"_x.npy\")\n",
        "  y_data = np.load(getDirectory(model_name) + ADVERSARIAL_EXAMPLE_PGD_FILE_NAME + \"_y.npy\")\n",
        "  \n",
        "  x_split, _, y_split, _ = train_test_split(x_data, y_data, test_size=0.75, random_state=42)\n",
        "  if bb_pgd_x is None:\n",
        "    bb_pgd_x = x_split\n",
        "    bb_pgd_y = y_split\n",
        "  else:\n",
        "    bb_pgd_x = np.concatenate((bb_pgd_x, x_split))\n",
        "    bb_pgd_y = np.concatenate((bb_pgd_y, y_split))\n",
        "\n",
        "print(bb_pgd_x.shape)\n"
      ],
      "execution_count": null,
      "outputs": [
        {
          "output_type": "stream",
          "text": [
            "(10000, 28, 28, 1)\n"
          ],
          "name": "stdout"
        }
      ]
    },
    {
      "cell_type": "markdown",
      "metadata": {
        "id": "v45S3wGxnJpI",
        "colab_type": "text"
      },
      "source": [
        "## Adversarial training with single step FGSM attack"
      ]
    },
    {
      "cell_type": "code",
      "metadata": {
        "id": "p36DkGuroCMk",
        "colab_type": "code",
        "colab": {
          "base_uri": "https://localhost:8080/",
          "height": 1000
        },
        "outputId": "ab0bb6a6-a418-435e-b2b1-98d7005993eb"
      },
      "source": [
        "for model_name in model_names:\n",
        "  model = AdvModel(model_name)\n",
        "  model.adversarial_training(x_train, y_train, epoch_no=12)\n",
        "\n",
        "  _, clean_acc, clean_loss = model.evaluate(x_test, y_test)\n",
        "  print(\"Model \" + model_name + \": On Clean Data Accuracy:{} Loss:{}\".format(clean_acc, clean_loss))\n",
        "\n",
        "  wb_acc, wb_loss = model.adversarial_attack(x_test, y_test)\n",
        "  print(\"Model \" + model_name + \": On White-box FGSM Attack Accuracy:{} Loss:{}\".format(wb_acc, wb_loss))\n",
        "  \n",
        "  _, bb_fgsm_acc, bb_fgsm_loss = model.evaluate(bb_fgms_x, bb_fgsm_y)\n",
        "  print(\"Model \" + model_name + \": On Black-box FGSM Attack Accuracy:{} Loss:{}\".format(bb_fgsm_acc, bb_fgsm_loss))\n",
        "\n",
        "  _, bb_pgd_acc, bb_pgd_loss = model.evaluate(bb_pgd_x, bb_pgd_y)\n",
        "  print(\"Model \" + model_name + \": On Black-box PGD Attack Accuracy:{} Loss:{}\".format(bb_pgd_acc, bb_pgd_loss))"
      ],
      "execution_count": null,
      "outputs": [
        {
          "output_type": "stream",
          "text": [
            "Model: \"sequential_1\"\n",
            "_________________________________________________________________\n",
            "Layer (type)                 Output Shape              Param #   \n",
            "=================================================================\n",
            "conv2d_2 (Conv2D)            (None, 28, 28, 64)        1664      \n",
            "_________________________________________________________________\n",
            "conv2d_3 (Conv2D)            (None, 28, 28, 64)        102464    \n",
            "_________________________________________________________________\n",
            "dropout_2 (Dropout)          (None, 28, 28, 64)        0         \n",
            "_________________________________________________________________\n",
            "flatten_1 (Flatten)          (None, 50176)             0         \n",
            "_________________________________________________________________\n",
            "dense_2 (Dense)              (None, 128)               6422656   \n",
            "_________________________________________________________________\n",
            "dropout_3 (Dropout)          (None, 128)               0         \n",
            "_________________________________________________________________\n",
            "dense_3 (Dense)              (None, 10)                1290      \n",
            "=================================================================\n",
            "Total params: 6,528,074\n",
            "Trainable params: 6,528,074\n",
            "Non-trainable params: 0\n",
            "_________________________________________________________________\n",
            "Epoch 1-> Loss:0.5542297919063518 Accuracy:0.8198499997829397\n",
            "Epoch 2-> Loss:0.22343239087611436 Accuracy:0.9319333332777023\n",
            "Epoch 3-> Loss:0.14317407608187446 Accuracy:0.9557583343982696\n",
            "Epoch 4-> Loss:0.12452243397633235 Accuracy:0.9612916692097981\n",
            "Epoch 5-> Loss:0.11063064593618037 Accuracy:0.9650833370288213\n",
            "Epoch 6-> Loss:0.07489590732962824 Accuracy:0.9762250088651975\n",
            "Epoch 7-> Loss:0.06974559746100567 Accuracy:0.9778666750590006\n",
            "Epoch 8-> Loss:0.060287804678470516 Accuracy:0.9808250104387601\n",
            "Epoch 9-> Loss:0.0672245958232088 Accuracy:0.9782833430171013\n",
            "Epoch 10-> Loss:0.05631004369856479 Accuracy:0.9817666763067245\n",
            "Epoch 11-> Loss:0.048584825644502415 Accuracy:0.9839500101407369\n",
            "Epoch 12-> Loss:0.04880949882509109 Accuracy:0.9841250096758206\n"
          ],
          "name": "stdout"
        },
        {
          "output_type": "stream",
          "text": [
            "  2%|▏         | 2/100 [00:00<00:06, 15.43it/s]"
          ],
          "name": "stderr"
        },
        {
          "output_type": "stream",
          "text": [
            "Model A: On Clean Data Accuracy:0.9914 Loss:0.03729674965143204\n"
          ],
          "name": "stdout"
        },
        {
          "output_type": "stream",
          "text": [
            "100%|██████████| 100/100 [00:06<00:00, 14.51it/s]\n"
          ],
          "name": "stderr"
        },
        {
          "output_type": "stream",
          "text": [
            "Model A: On White-box FGSM Attack Accuracy:0.9821000000000002 Loss:0.06619900465011597\n",
            "Model A: On Black-box FGSM Attack Accuracy:0.5521 Loss:6.350437641143799\n",
            "Model A: On Black-box PGD Attack Accuracy:0.9549 Loss:0.17236828804016113\n",
            "Model: \"sequential_2\"\n",
            "_________________________________________________________________\n",
            "Layer (type)                 Output Shape              Param #   \n",
            "=================================================================\n",
            "dropout_4 (Dropout)          (None, 28, 28, 1)         0         \n",
            "_________________________________________________________________\n",
            "conv2d_4 (Conv2D)            (None, 28, 28, 64)        4160      \n",
            "_________________________________________________________________\n",
            "conv2d_5 (Conv2D)            (None, 28, 28, 128)       295040    \n",
            "_________________________________________________________________\n",
            "conv2d_6 (Conv2D)            (None, 28, 28, 128)       409728    \n",
            "_________________________________________________________________\n",
            "dropout_5 (Dropout)          (None, 28, 28, 128)       0         \n",
            "_________________________________________________________________\n",
            "flatten_2 (Flatten)          (None, 100352)            0         \n",
            "_________________________________________________________________\n",
            "dense_4 (Dense)              (None, 10)                1003530   \n",
            "=================================================================\n",
            "Total params: 1,712,458\n",
            "Trainable params: 1,712,458\n",
            "Non-trainable params: 0\n",
            "_________________________________________________________________\n",
            "Epoch 1-> Loss:0.4083425730870416 Accuracy:0.8689833323781689\n",
            "Epoch 2-> Loss:0.11055089520406909 Accuracy:0.9654416698217392\n",
            "Epoch 3-> Loss:0.0794102857016939 Accuracy:0.9753000087539355\n",
            "Epoch 4-> Loss:0.06474249270870738 Accuracy:0.9791416770219803\n",
            "Epoch 5-> Loss:0.050329801444216477 Accuracy:0.9840000102917353\n",
            "Epoch 6-> Loss:0.047058546902262605 Accuracy:0.985158343911171\n",
            "Epoch 7-> Loss:0.044440828613975705 Accuracy:0.9858166766166687\n",
            "Epoch 8-> Loss:0.03732532323216826 Accuracy:0.9878750102718671\n",
            "Epoch 9-> Loss:0.03500974056179985 Accuracy:0.9888000092903773\n",
            "Epoch 10-> Loss:0.03426077087613521 Accuracy:0.9889833425482114\n",
            "Epoch 11-> Loss:0.02861273262475455 Accuracy:0.9908666743834813\n",
            "Epoch 12-> Loss:0.02863175984587239 Accuracy:0.9910500076413155\n"
          ],
          "name": "stdout"
        },
        {
          "output_type": "stream",
          "text": [
            "  1%|          | 1/100 [00:00<00:16,  5.91it/s]"
          ],
          "name": "stderr"
        },
        {
          "output_type": "stream",
          "text": [
            "Model B: On Clean Data Accuracy:0.9892 Loss:0.031647223979234695\n"
          ],
          "name": "stdout"
        },
        {
          "output_type": "stream",
          "text": [
            "100%|██████████| 100/100 [00:16<00:00,  5.94it/s]\n"
          ],
          "name": "stderr"
        },
        {
          "output_type": "stream",
          "text": [
            "Model B: On White-box FGSM Attack Accuracy:0.978 Loss:0.08080042153596878\n",
            "Model B: On Black-box FGSM Attack Accuracy:0.5524 Loss:5.671182632446289\n",
            "Model B: On Black-box PGD Attack Accuracy:0.9761 Loss:0.07251591980457306\n",
            "Model: \"sequential_3\"\n",
            "_________________________________________________________________\n",
            "Layer (type)                 Output Shape              Param #   \n",
            "=================================================================\n",
            "conv2d_7 (Conv2D)            (None, 28, 28, 128)       1280      \n",
            "_________________________________________________________________\n",
            "max_pooling2d (MaxPooling2D) (None, 14, 14, 128)       0         \n",
            "_________________________________________________________________\n",
            "conv2d_8 (Conv2D)            (None, 14, 14, 64)        73792     \n",
            "_________________________________________________________________\n",
            "max_pooling2d_1 (MaxPooling2 (None, 7, 7, 64)          0         \n",
            "_________________________________________________________________\n",
            "flatten_3 (Flatten)          (None, 3136)              0         \n",
            "_________________________________________________________________\n",
            "dense_5 (Dense)              (None, 128)               401536    \n",
            "_________________________________________________________________\n",
            "dense_6 (Dense)              (None, 10)                1290      \n",
            "=================================================================\n",
            "Total params: 477,898\n",
            "Trainable params: 477,898\n",
            "Non-trainable params: 0\n",
            "_________________________________________________________________\n",
            "Epoch 1-> Loss:0.3768931412976235 Accuracy:0.8794583326826493\n",
            "Epoch 2-> Loss:0.08303258917876519 Accuracy:0.9743250080943108\n",
            "Epoch 3-> Loss:0.06302064002840779 Accuracy:0.9804500083128611\n",
            "Epoch 4-> Loss:0.03014007720088557 Accuracy:0.9908333402872086\n",
            "Epoch 5-> Loss:0.019645962998110916 Accuracy:0.9935416726271311\n",
            "Epoch 6-> Loss:0.02897275004886372 Accuracy:0.9906750072042148\n",
            "Epoch 7-> Loss:0.02399979991803131 Accuracy:0.9925666723648707\n",
            "Epoch 8-> Loss:0.025749250778960307 Accuracy:0.9916916730006536\n",
            "Epoch 9-> Loss:0.020442871436201434 Accuracy:0.9935500052571297\n",
            "Epoch 10-> Loss:0.02108748431357526 Accuracy:0.9931666724880537\n",
            "Epoch 11-> Loss:0.015553954320240374 Accuracy:0.9949333376685778\n",
            "Epoch 12-> Loss:0.028679404546476994 Accuracy:0.9913833397626877\n"
          ],
          "name": "stdout"
        },
        {
          "output_type": "stream",
          "text": [
            "  2%|▏         | 2/100 [00:00<00:06, 14.81it/s]"
          ],
          "name": "stderr"
        },
        {
          "output_type": "stream",
          "text": [
            "Model C: On Clean Data Accuracy:0.9882 Loss:0.051621995866298676\n"
          ],
          "name": "stdout"
        },
        {
          "output_type": "stream",
          "text": [
            "100%|██████████| 100/100 [00:06<00:00, 14.77it/s]\n"
          ],
          "name": "stderr"
        },
        {
          "output_type": "stream",
          "text": [
            "Model C: On White-box FGSM Attack Accuracy:0.9925999999999999 Loss:0.028854072093963623\n",
            "Model C: On Black-box FGSM Attack Accuracy:0.722 Loss:1.413119912147522\n",
            "Model C: On Black-box PGD Attack Accuracy:0.8198 Loss:0.8640425801277161\n",
            "Model: \"sequential_4\"\n",
            "_________________________________________________________________\n",
            "Layer (type)                 Output Shape              Param #   \n",
            "=================================================================\n",
            "flatten_4 (Flatten)          (None, 784)               0         \n",
            "_________________________________________________________________\n",
            "dense_7 (Dense)              (None, 300)               235500    \n",
            "_________________________________________________________________\n",
            "dropout_6 (Dropout)          (None, 300)               0         \n",
            "_________________________________________________________________\n",
            "dense_8 (Dense)              (None, 300)               90300     \n",
            "_________________________________________________________________\n",
            "dropout_7 (Dropout)          (None, 300)               0         \n",
            "_________________________________________________________________\n",
            "dense_9 (Dense)              (None, 300)               90300     \n",
            "_________________________________________________________________\n",
            "dropout_8 (Dropout)          (None, 300)               0         \n",
            "_________________________________________________________________\n",
            "dense_10 (Dense)             (None, 300)               90300     \n",
            "_________________________________________________________________\n",
            "dropout_9 (Dropout)          (None, 300)               0         \n",
            "_________________________________________________________________\n",
            "dense_11 (Dense)             (None, 10)                3010      \n",
            "=================================================================\n",
            "Total params: 509,410\n",
            "Trainable params: 509,410\n",
            "Non-trainable params: 0\n",
            "_________________________________________________________________\n",
            "Epoch 1-> Loss:1.3813304502765338 Accuracy:0.5388583331679304\n",
            "Epoch 2-> Loss:1.045622659524282 Accuracy:0.679516668220361\n",
            "Epoch 3-> Loss:0.9725485415259997 Accuracy:0.6992666671673456\n",
            "Epoch 4-> Loss:0.9333358937501908 Accuracy:0.7122916674613953\n",
            "Epoch 5-> Loss:0.8918362013498942 Accuracy:0.7265333330631256\n",
            "Epoch 6-> Loss:0.8704360396663348 Accuracy:0.7341583332419396\n",
            "Epoch 7-> Loss:0.8496661451458931 Accuracy:0.7403583327929179\n",
            "Epoch 8-> Loss:0.8334861815472444 Accuracy:0.7468416664004326\n",
            "Epoch 9-> Loss:0.8079174320896466 Accuracy:0.7541000003616015\n",
            "Epoch 10-> Loss:0.7974613946676254 Accuracy:0.7584916660189629\n",
            "Epoch 11-> Loss:0.7856612854699294 Accuracy:0.763425000111262\n",
            "Epoch 12-> Loss:0.7624988984068235 Accuracy:0.7704916658997536\n"
          ],
          "name": "stdout"
        },
        {
          "output_type": "stream",
          "text": [
            "  2%|▏         | 2/100 [00:00<00:05, 19.20it/s]"
          ],
          "name": "stderr"
        },
        {
          "output_type": "stream",
          "text": [
            "Model D: On Clean Data Accuracy:0.9743 Loss:0.0886312946677208\n"
          ],
          "name": "stdout"
        },
        {
          "output_type": "stream",
          "text": [
            "100%|██████████| 100/100 [00:04<00:00, 20.69it/s]\n"
          ],
          "name": "stderr"
        },
        {
          "output_type": "stream",
          "text": [
            "Model D: On White-box FGSM Attack Accuracy:0.5737000000000001 Loss:1.2856011390686035\n",
            "Model D: On Black-box FGSM Attack Accuracy:0.5612 Loss:2.2290217876434326\n",
            "Model D: On Black-box PGD Attack Accuracy:0.535 Loss:1.3602088689804077\n"
          ],
          "name": "stdout"
        }
      ]
    },
    {
      "cell_type": "markdown",
      "metadata": {
        "id": "AAoh_xe3PYUS",
        "colab_type": "text"
      },
      "source": [
        "## Evaluate the model's output on clean validation set, white-box FGSM attack, black-box FGSM and PGD attacks"
      ]
    },
    {
      "cell_type": "code",
      "metadata": {
        "id": "jssZAv3BbEdQ",
        "colab_type": "code",
        "colab": {
          "base_uri": "https://localhost:8080/",
          "height": 1000
        },
        "outputId": "ebe65bf6-c24d-4b83-c4a0-908f31d41dfc"
      },
      "source": [
        "for model_name in model_names:\n",
        "  #train an auxilliary model with the same architecture\n",
        "  aux_model = AdvModel(model_name)\n",
        "  aux_model.train(x_train, y_train, x_test, y_test)\n",
        "  adv_examples_x, adv_examples_y = aux_model.generate_adversarial_examples(x_train, y_train, batch_size=100, epsilon=0.3)\n",
        "  \n",
        "  #adversarially train the new model with the adversarial examples generated from the auxilliary model\n",
        "  model = AdvModel(model_name, show_summary=False)\n",
        "  model.train(np.concatenate((adv_examples_x, x_train)), np.concatenate((y_train, adv_examples_y)), x_test, y_test, epoch=12, save_file_name=SAME_ENSEMBLE_TRAINED_MODEL)\n",
        "  \n",
        "  wb_acc, wb_loss = model.adversarial_attack(x_test, y_test)\n",
        "  print(\"Model \" + model_name + \": On White-box FGSM Attack Accuracy:{} Loss:{}\".format(wb_acc, wb_loss))\n",
        "  \n",
        "  _, bb_fgsm_acc, bb_fgsm_loss = model.evaluate(bb_fgms_x, bb_fgsm_y)\n",
        "  print(\"Model \" + model_name + \": On Black-box FGSM Attack Accuracy:{} Loss:{}\".format(bb_fgsm_acc, bb_fgsm_loss))\n",
        "\n",
        "  _, bb_pgd_acc, bb_pgd_loss = model.evaluate(bb_pgd_x, bb_pgd_y)\n",
        "  print(\"Model \" + model_name + \": On Black-box PGD Attack Accuracy:{} Loss:{}\".format(bb_pgd_acc, bb_pgd_loss))"
      ],
      "execution_count": null,
      "outputs": [
        {
          "output_type": "stream",
          "text": [
            "Model: \"sequential_7\"\n",
            "_________________________________________________________________\n",
            "Layer (type)                 Output Shape              Param #   \n",
            "=================================================================\n",
            "conv2d_13 (Conv2D)           (None, 28, 28, 64)        1664      \n",
            "_________________________________________________________________\n",
            "conv2d_14 (Conv2D)           (None, 28, 28, 64)        102464    \n",
            "_________________________________________________________________\n",
            "dropout_14 (Dropout)         (None, 28, 28, 64)        0         \n",
            "_________________________________________________________________\n",
            "flatten_7 (Flatten)          (None, 50176)             0         \n",
            "_________________________________________________________________\n",
            "dense_16 (Dense)             (None, 128)               6422656   \n",
            "_________________________________________________________________\n",
            "dropout_15 (Dropout)         (None, 128)               0         \n",
            "_________________________________________________________________\n",
            "dense_17 (Dense)             (None, 10)                1290      \n",
            "=================================================================\n",
            "Total params: 6,528,074\n",
            "Trainable params: 6,528,074\n",
            "Non-trainable params: 0\n",
            "_________________________________________________________________\n",
            "Epoch 1/6\n",
            "600/600 [==============================] - 14s 24ms/step - loss: 0.1659 - accuracy: 0.9501 - val_loss: 0.0430 - val_accuracy: 0.9851\n",
            "Epoch 2/6\n",
            "600/600 [==============================] - 14s 24ms/step - loss: 0.0640 - accuracy: 0.9809 - val_loss: 0.0336 - val_accuracy: 0.9890\n",
            "Epoch 3/6\n",
            "600/600 [==============================] - 14s 24ms/step - loss: 0.0454 - accuracy: 0.9863 - val_loss: 0.0244 - val_accuracy: 0.9915\n",
            "Epoch 4/6\n",
            "600/600 [==============================] - 14s 24ms/step - loss: 0.0359 - accuracy: 0.9891 - val_loss: 0.0224 - val_accuracy: 0.9923\n",
            "Epoch 5/6\n",
            "600/600 [==============================] - 14s 24ms/step - loss: 0.0287 - accuracy: 0.9911 - val_loss: 0.0282 - val_accuracy: 0.9918\n",
            "Epoch 6/6\n",
            "600/600 [==============================] - 14s 24ms/step - loss: 0.0241 - accuracy: 0.9928 - val_loss: 0.0239 - val_accuracy: 0.9917\n"
          ],
          "name": "stdout"
        },
        {
          "output_type": "stream",
          "text": [
            "100%|██████████| 600/600 [00:15<00:00, 39.70it/s]\n"
          ],
          "name": "stderr"
        },
        {
          "output_type": "stream",
          "text": [
            "Epoch 1/12\n",
            "1200/1200 [==============================] - 28s 23ms/step - loss: 0.1441 - accuracy: 0.9565 - val_loss: 0.0395 - val_accuracy: 0.9866\n",
            "Epoch 2/12\n",
            "1200/1200 [==============================] - 28s 23ms/step - loss: 0.0504 - accuracy: 0.9854 - val_loss: 0.0363 - val_accuracy: 0.9886\n",
            "Epoch 3/12\n",
            "1200/1200 [==============================] - 28s 23ms/step - loss: 0.0353 - accuracy: 0.9894 - val_loss: 0.0349 - val_accuracy: 0.9885\n",
            "Epoch 4/12\n",
            "1200/1200 [==============================] - 28s 23ms/step - loss: 0.0275 - accuracy: 0.9916 - val_loss: 0.0308 - val_accuracy: 0.9905\n",
            "Epoch 5/12\n",
            "1200/1200 [==============================] - 28s 23ms/step - loss: 0.0232 - accuracy: 0.9928 - val_loss: 0.0269 - val_accuracy: 0.9913\n",
            "Epoch 6/12\n",
            "1200/1200 [==============================] - 28s 23ms/step - loss: 0.0181 - accuracy: 0.9942 - val_loss: 0.0340 - val_accuracy: 0.9908\n",
            "Epoch 7/12\n",
            "1200/1200 [==============================] - 28s 23ms/step - loss: 0.0179 - accuracy: 0.9944 - val_loss: 0.0315 - val_accuracy: 0.9913\n",
            "Epoch 8/12\n",
            "1200/1200 [==============================] - 28s 23ms/step - loss: 0.0144 - accuracy: 0.9953 - val_loss: 0.0292 - val_accuracy: 0.9915\n",
            "Epoch 9/12\n",
            "1200/1200 [==============================] - 28s 23ms/step - loss: 0.0127 - accuracy: 0.9959 - val_loss: 0.0343 - val_accuracy: 0.9906\n",
            "Epoch 10/12\n",
            "1200/1200 [==============================] - 27s 23ms/step - loss: 0.0127 - accuracy: 0.9958 - val_loss: 0.0324 - val_accuracy: 0.9915\n",
            "Epoch 11/12\n",
            "1200/1200 [==============================] - 28s 23ms/step - loss: 0.0123 - accuracy: 0.9961 - val_loss: 0.0285 - val_accuracy: 0.9920\n",
            "Epoch 12/12\n",
            "1200/1200 [==============================] - 28s 23ms/step - loss: 0.0100 - accuracy: 0.9968 - val_loss: 0.0326 - val_accuracy: 0.9919\n"
          ],
          "name": "stdout"
        },
        {
          "output_type": "stream",
          "text": [
            "100%|██████████| 100/100 [00:06<00:00, 14.35it/s]\n"
          ],
          "name": "stderr"
        },
        {
          "output_type": "stream",
          "text": [
            "Model A: On White-box FGSM Attack Accuracy:0.8013000000000001 Loss:2.7754037380218506\n",
            "Model A: On Black-box FGSM Attack Accuracy:0.6088 Loss:4.27979040145874\n",
            "Model A: On Black-box PGD Attack Accuracy:0.8567 Loss:0.8661924004554749\n",
            "Model: \"sequential_9\"\n",
            "_________________________________________________________________\n",
            "Layer (type)                 Output Shape              Param #   \n",
            "=================================================================\n",
            "dropout_18 (Dropout)         (None, 28, 28, 1)         0         \n",
            "_________________________________________________________________\n",
            "conv2d_17 (Conv2D)           (None, 28, 28, 64)        4160      \n",
            "_________________________________________________________________\n",
            "conv2d_18 (Conv2D)           (None, 28, 28, 128)       295040    \n",
            "_________________________________________________________________\n",
            "conv2d_19 (Conv2D)           (None, 28, 28, 128)       409728    \n",
            "_________________________________________________________________\n",
            "dropout_19 (Dropout)         (None, 28, 28, 128)       0         \n",
            "_________________________________________________________________\n",
            "flatten_9 (Flatten)          (None, 100352)            0         \n",
            "_________________________________________________________________\n",
            "dense_20 (Dense)             (None, 10)                1003530   \n",
            "=================================================================\n",
            "Total params: 1,712,458\n",
            "Trainable params: 1,712,458\n",
            "Non-trainable params: 0\n",
            "_________________________________________________________________\n",
            "Epoch 1/6\n",
            "600/600 [==============================] - 62s 103ms/step - loss: 0.1448 - accuracy: 0.9550 - val_loss: 0.0335 - val_accuracy: 0.9893\n",
            "Epoch 2/6\n",
            "600/600 [==============================] - 62s 103ms/step - loss: 0.0547 - accuracy: 0.9829 - val_loss: 0.0325 - val_accuracy: 0.9890\n",
            "Epoch 3/6\n",
            "600/600 [==============================] - 62s 103ms/step - loss: 0.0401 - accuracy: 0.9873 - val_loss: 0.0372 - val_accuracy: 0.9884\n",
            "Epoch 4/6\n",
            "600/600 [==============================] - 62s 103ms/step - loss: 0.0346 - accuracy: 0.9892 - val_loss: 0.0346 - val_accuracy: 0.9895\n",
            "Epoch 5/6\n",
            "600/600 [==============================] - 62s 103ms/step - loss: 0.0307 - accuracy: 0.9901 - val_loss: 0.0287 - val_accuracy: 0.9905\n",
            "Epoch 6/6\n",
            "600/600 [==============================] - 62s 103ms/step - loss: 0.0254 - accuracy: 0.9920 - val_loss: 0.0264 - val_accuracy: 0.9917\n"
          ],
          "name": "stdout"
        },
        {
          "output_type": "stream",
          "text": [
            "100%|██████████| 600/600 [01:00<00:00,  9.93it/s]\n"
          ],
          "name": "stderr"
        },
        {
          "output_type": "stream",
          "text": [
            "Epoch 1/12\n",
            "1200/1200 [==============================] - 119s 99ms/step - loss: 0.1465 - accuracy: 0.9544 - val_loss: 0.0488 - val_accuracy: 0.9838\n",
            "Epoch 2/12\n",
            "1200/1200 [==============================] - 119s 99ms/step - loss: 0.0453 - accuracy: 0.9858 - val_loss: 0.0479 - val_accuracy: 0.9850\n",
            "Epoch 3/12\n",
            "1200/1200 [==============================] - 119s 99ms/step - loss: 0.0322 - accuracy: 0.9898 - val_loss: 0.0342 - val_accuracy: 0.9891\n",
            "Epoch 4/12\n",
            "1200/1200 [==============================] - 118s 99ms/step - loss: 0.0270 - accuracy: 0.9916 - val_loss: 0.0322 - val_accuracy: 0.9898\n",
            "Epoch 5/12\n",
            "1200/1200 [==============================] - 118s 99ms/step - loss: 0.0238 - accuracy: 0.9926 - val_loss: 0.0350 - val_accuracy: 0.9884\n",
            "Epoch 6/12\n",
            "1200/1200 [==============================] - 118s 98ms/step - loss: 0.0211 - accuracy: 0.9931 - val_loss: 0.0290 - val_accuracy: 0.9900\n",
            "Epoch 7/12\n",
            "1200/1200 [==============================] - 118s 99ms/step - loss: 0.0175 - accuracy: 0.9944 - val_loss: 0.0303 - val_accuracy: 0.9909\n",
            "Epoch 8/12\n",
            "1200/1200 [==============================] - 118s 98ms/step - loss: 0.0162 - accuracy: 0.9947 - val_loss: 0.0335 - val_accuracy: 0.9897\n",
            "Epoch 9/12\n",
            "1200/1200 [==============================] - 118s 99ms/step - loss: 0.0156 - accuracy: 0.9951 - val_loss: 0.0325 - val_accuracy: 0.9888\n",
            "Epoch 10/12\n",
            "1200/1200 [==============================] - 118s 98ms/step - loss: 0.0146 - accuracy: 0.9953 - val_loss: 0.0303 - val_accuracy: 0.9913\n",
            "Epoch 11/12\n",
            "1200/1200 [==============================] - 118s 98ms/step - loss: 0.0134 - accuracy: 0.9956 - val_loss: 0.0282 - val_accuracy: 0.9912\n",
            "Epoch 12/12\n",
            "1200/1200 [==============================] - 118s 98ms/step - loss: 0.0139 - accuracy: 0.9958 - val_loss: 0.0345 - val_accuracy: 0.9895\n"
          ],
          "name": "stdout"
        },
        {
          "output_type": "stream",
          "text": [
            "100%|██████████| 100/100 [00:16<00:00,  5.93it/s]\n"
          ],
          "name": "stderr"
        },
        {
          "output_type": "stream",
          "text": [
            "Model B: On White-box FGSM Attack Accuracy:0.5016 Loss:3.4386050701141357\n",
            "Model B: On Black-box FGSM Attack Accuracy:0.5391 Loss:5.103971004486084\n",
            "Model B: On Black-box PGD Attack Accuracy:0.8837 Loss:0.44429510831832886\n",
            "Model: \"sequential_11\"\n",
            "_________________________________________________________________\n",
            "Layer (type)                 Output Shape              Param #   \n",
            "=================================================================\n",
            "conv2d_23 (Conv2D)           (None, 28, 28, 128)       1280      \n",
            "_________________________________________________________________\n",
            "max_pooling2d_2 (MaxPooling2 (None, 14, 14, 128)       0         \n",
            "_________________________________________________________________\n",
            "conv2d_24 (Conv2D)           (None, 14, 14, 64)        73792     \n",
            "_________________________________________________________________\n",
            "max_pooling2d_3 (MaxPooling2 (None, 7, 7, 64)          0         \n",
            "_________________________________________________________________\n",
            "flatten_11 (Flatten)         (None, 3136)              0         \n",
            "_________________________________________________________________\n",
            "dense_22 (Dense)             (None, 128)               401536    \n",
            "_________________________________________________________________\n",
            "dense_23 (Dense)             (None, 10)                1290      \n",
            "=================================================================\n",
            "Total params: 477,898\n",
            "Trainable params: 477,898\n",
            "Non-trainable params: 0\n",
            "_________________________________________________________________\n",
            "Epoch 1/6\n",
            "600/600 [==============================] - 10s 17ms/step - loss: 0.1583 - accuracy: 0.9523 - val_loss: 0.0472 - val_accuracy: 0.9839\n",
            "Epoch 2/6\n",
            "600/600 [==============================] - 10s 17ms/step - loss: 0.0434 - accuracy: 0.9866 - val_loss: 0.0448 - val_accuracy: 0.9861\n",
            "Epoch 3/6\n",
            "600/600 [==============================] - 10s 17ms/step - loss: 0.0279 - accuracy: 0.9916 - val_loss: 0.0325 - val_accuracy: 0.9899\n",
            "Epoch 4/6\n",
            "600/600 [==============================] - 10s 17ms/step - loss: 0.0194 - accuracy: 0.9938 - val_loss: 0.0439 - val_accuracy: 0.9868\n",
            "Epoch 5/6\n",
            "600/600 [==============================] - 10s 17ms/step - loss: 0.0158 - accuracy: 0.9948 - val_loss: 0.0345 - val_accuracy: 0.9885\n",
            "Epoch 6/6\n",
            "600/600 [==============================] - 10s 17ms/step - loss: 0.0112 - accuracy: 0.9959 - val_loss: 0.0450 - val_accuracy: 0.9873\n"
          ],
          "name": "stdout"
        },
        {
          "output_type": "stream",
          "text": [
            "100%|██████████| 600/600 [00:15<00:00, 38.77it/s]\n"
          ],
          "name": "stderr"
        },
        {
          "output_type": "stream",
          "text": [
            "Epoch 1/12\n",
            "1200/1200 [==============================] - 19s 16ms/step - loss: 0.0961 - accuracy: 0.9708 - val_loss: 0.0588 - val_accuracy: 0.9801\n",
            "Epoch 2/12\n",
            "1200/1200 [==============================] - 19s 16ms/step - loss: 0.0276 - accuracy: 0.9915 - val_loss: 0.0432 - val_accuracy: 0.9860\n",
            "Epoch 3/12\n",
            "1200/1200 [==============================] - 19s 16ms/step - loss: 0.0185 - accuracy: 0.9942 - val_loss: 0.0388 - val_accuracy: 0.9883\n",
            "Epoch 4/12\n",
            "1200/1200 [==============================] - 19s 16ms/step - loss: 0.0148 - accuracy: 0.9951 - val_loss: 0.0388 - val_accuracy: 0.9875\n",
            "Epoch 5/12\n",
            "1200/1200 [==============================] - 19s 16ms/step - loss: 0.0100 - accuracy: 0.9967 - val_loss: 0.0395 - val_accuracy: 0.9896\n",
            "Epoch 6/12\n",
            "1200/1200 [==============================] - 19s 16ms/step - loss: 0.0097 - accuracy: 0.9969 - val_loss: 0.0453 - val_accuracy: 0.9878\n",
            "Epoch 7/12\n",
            "1200/1200 [==============================] - 19s 16ms/step - loss: 0.0092 - accuracy: 0.9970 - val_loss: 0.0438 - val_accuracy: 0.9899\n",
            "Epoch 8/12\n",
            "1200/1200 [==============================] - 19s 16ms/step - loss: 0.0083 - accuracy: 0.9975 - val_loss: 0.0463 - val_accuracy: 0.9896\n",
            "Epoch 9/12\n",
            "1200/1200 [==============================] - 19s 16ms/step - loss: 0.0060 - accuracy: 0.9978 - val_loss: 0.0537 - val_accuracy: 0.9874\n",
            "Epoch 10/12\n",
            "1200/1200 [==============================] - 19s 16ms/step - loss: 0.0073 - accuracy: 0.9977 - val_loss: 0.0509 - val_accuracy: 0.9881\n",
            "Epoch 11/12\n",
            "1200/1200 [==============================] - 19s 16ms/step - loss: 0.0053 - accuracy: 0.9984 - val_loss: 0.0499 - val_accuracy: 0.9887\n",
            "Epoch 12/12\n",
            "1200/1200 [==============================] - 19s 16ms/step - loss: 0.0068 - accuracy: 0.9980 - val_loss: 0.0508 - val_accuracy: 0.9898\n"
          ],
          "name": "stdout"
        },
        {
          "output_type": "stream",
          "text": [
            "100%|██████████| 100/100 [00:07<00:00, 14.21it/s]\n"
          ],
          "name": "stderr"
        },
        {
          "output_type": "stream",
          "text": [
            "Model C: On White-box FGSM Attack Accuracy:0.7144999999999997 Loss:4.597817897796631\n",
            "Model C: On Black-box FGSM Attack Accuracy:0.5831 Loss:4.8361968994140625\n",
            "Model C: On Black-box PGD Attack Accuracy:0.7467 Loss:2.1745667457580566\n",
            "Model: \"sequential_13\"\n",
            "_________________________________________________________________\n",
            "Layer (type)                 Output Shape              Param #   \n",
            "=================================================================\n",
            "flatten_13 (Flatten)         (None, 784)               0         \n",
            "_________________________________________________________________\n",
            "dense_26 (Dense)             (None, 300)               235500    \n",
            "_________________________________________________________________\n",
            "dropout_22 (Dropout)         (None, 300)               0         \n",
            "_________________________________________________________________\n",
            "dense_27 (Dense)             (None, 300)               90300     \n",
            "_________________________________________________________________\n",
            "dropout_23 (Dropout)         (None, 300)               0         \n",
            "_________________________________________________________________\n",
            "dense_28 (Dense)             (None, 300)               90300     \n",
            "_________________________________________________________________\n",
            "dropout_24 (Dropout)         (None, 300)               0         \n",
            "_________________________________________________________________\n",
            "dense_29 (Dense)             (None, 300)               90300     \n",
            "_________________________________________________________________\n",
            "dropout_25 (Dropout)         (None, 300)               0         \n",
            "_________________________________________________________________\n",
            "dense_30 (Dense)             (None, 10)                3010      \n",
            "=================================================================\n",
            "Total params: 509,410\n",
            "Trainable params: 509,410\n",
            "Non-trainable params: 0\n",
            "_________________________________________________________________\n",
            "Epoch 1/6\n",
            "600/600 [==============================] - 3s 5ms/step - loss: 0.6241 - accuracy: 0.8019 - val_loss: 0.1924 - val_accuracy: 0.9477\n",
            "Epoch 2/6\n",
            "600/600 [==============================] - 3s 5ms/step - loss: 0.2678 - accuracy: 0.9258 - val_loss: 0.1437 - val_accuracy: 0.9582\n",
            "Epoch 3/6\n",
            "600/600 [==============================] - 3s 4ms/step - loss: 0.2160 - accuracy: 0.9401 - val_loss: 0.1215 - val_accuracy: 0.9659\n",
            "Epoch 4/6\n",
            "600/600 [==============================] - 3s 4ms/step - loss: 0.1891 - accuracy: 0.9491 - val_loss: 0.1039 - val_accuracy: 0.9718\n",
            "Epoch 5/6\n",
            "600/600 [==============================] - 3s 4ms/step - loss: 0.1697 - accuracy: 0.9537 - val_loss: 0.1034 - val_accuracy: 0.9707\n",
            "Epoch 6/6\n",
            "600/600 [==============================] - 3s 4ms/step - loss: 0.1574 - accuracy: 0.9566 - val_loss: 0.0943 - val_accuracy: 0.9739\n"
          ],
          "name": "stdout"
        },
        {
          "output_type": "stream",
          "text": [
            "100%|██████████| 600/600 [00:07<00:00, 78.18it/s]\n"
          ],
          "name": "stderr"
        },
        {
          "output_type": "stream",
          "text": [
            "Epoch 1/12\n",
            "1200/1200 [==============================] - 5s 4ms/step - loss: 0.4367 - accuracy: 0.8614 - val_loss: 0.1810 - val_accuracy: 0.9476\n",
            "Epoch 2/12\n",
            "1200/1200 [==============================] - 5s 4ms/step - loss: 0.1713 - accuracy: 0.9528 - val_loss: 0.1501 - val_accuracy: 0.9569\n",
            "Epoch 3/12\n",
            "1200/1200 [==============================] - 5s 4ms/step - loss: 0.1418 - accuracy: 0.9616 - val_loss: 0.1246 - val_accuracy: 0.9654\n",
            "Epoch 4/12\n",
            "1200/1200 [==============================] - 6s 5ms/step - loss: 0.1268 - accuracy: 0.9660 - val_loss: 0.1100 - val_accuracy: 0.9695\n",
            "Epoch 5/12\n",
            "1200/1200 [==============================] - 6s 5ms/step - loss: 0.1162 - accuracy: 0.9687 - val_loss: 0.1013 - val_accuracy: 0.9707\n",
            "Epoch 6/12\n",
            "1200/1200 [==============================] - 6s 5ms/step - loss: 0.1094 - accuracy: 0.9705 - val_loss: 0.0998 - val_accuracy: 0.9728\n",
            "Epoch 7/12\n",
            "1200/1200 [==============================] - 6s 5ms/step - loss: 0.1023 - accuracy: 0.9726 - val_loss: 0.0975 - val_accuracy: 0.9724\n",
            "Epoch 8/12\n",
            "1200/1200 [==============================] - 6s 5ms/step - loss: 0.0977 - accuracy: 0.9741 - val_loss: 0.0921 - val_accuracy: 0.9749\n",
            "Epoch 9/12\n",
            "1200/1200 [==============================] - 6s 5ms/step - loss: 0.0942 - accuracy: 0.9752 - val_loss: 0.0940 - val_accuracy: 0.9767\n",
            "Epoch 10/12\n",
            "1200/1200 [==============================] - 6s 5ms/step - loss: 0.0893 - accuracy: 0.9758 - val_loss: 0.0932 - val_accuracy: 0.9741\n",
            "Epoch 11/12\n",
            "1200/1200 [==============================] - 6s 5ms/step - loss: 0.0906 - accuracy: 0.9760 - val_loss: 0.0865 - val_accuracy: 0.9772\n",
            "Epoch 12/12\n",
            "1200/1200 [==============================] - 6s 5ms/step - loss: 0.0859 - accuracy: 0.9773 - val_loss: 0.0880 - val_accuracy: 0.9754\n"
          ],
          "name": "stdout"
        },
        {
          "output_type": "stream",
          "text": [
            "100%|██████████| 100/100 [00:05<00:00, 19.69it/s]\n"
          ],
          "name": "stderr"
        },
        {
          "output_type": "stream",
          "text": [
            "Model D: On White-box FGSM Attack Accuracy:0.23560000000000003 Loss:6.955626010894775\n",
            "Model D: On Black-box FGSM Attack Accuracy:0.6109 Loss:2.446072578430176\n",
            "Model D: On Black-box PGD Attack Accuracy:0.7564 Loss:0.7924397587776184\n"
          ],
          "name": "stdout"
        }
      ]
    },
    {
      "cell_type": "markdown",
      "metadata": {
        "id": "fyzno_expdAs",
        "colab_type": "text"
      },
      "source": [
        "## Ensemble adversarial training with adversarial examples from every other model"
      ]
    },
    {
      "cell_type": "code",
      "metadata": {
        "id": "p54LI3cnglGs",
        "colab_type": "code",
        "colab": {
          "base_uri": "https://localhost:8080/",
          "height": 1000
        },
        "outputId": "ad10c2c1-bd4e-47eb-cc65-10e3dc7398ec"
      },
      "source": [
        "train_data = {'train': (x_train, y_train)}\n",
        "for model_name in model_names:\n",
        "  train_data[model_name] = (np.load(getDirectory(model_name) + ADVERSARIAL_EXAMPLE_TRAIN_FILE_NAME + \"_x.npy\"), np.load(getDirectory(model_name) + ADVERSARIAL_EXAMPLE_TRAIN_FILE_NAME + \"_y.npy\")) \n",
        "\n",
        "for model_name in model_names:\n",
        "  ensemble_train_x = None\n",
        "  ensemble_train_y = None\n",
        "  #create the train set\n",
        "  for aux_model in train_data.keys():\n",
        "    if aux_model is model_name:\n",
        "      continue\n",
        "    x_data, y_data = train_data[aux_model]\n",
        "    \n",
        "    if ensemble_train_x is None:\n",
        "      ensemble_train_x = x_data\n",
        "      ensemble_train_y = y_data\n",
        "    else:\n",
        "      ensemble_train_x = np.concatenate((ensemble_train_x, x_data))\n",
        "      ensemble_train_y = np.concatenate((ensemble_train_y, y_data))\n",
        "\n",
        "  print(ensemble_train_x.shape)\n",
        "  model = AdvModel(model_name)\n",
        "  model.train(ensemble_train_x, ensemble_train_y, x_test, y_test, epoch=12, save_file_name=ENSEMBLE_TRAINED_MODEL)\n",
        "  \n",
        "  wb_acc, wb_loss = model.adversarial_attack(x_test, y_test)\n",
        "  print(\"Model \" + model_name + \": On White-box FGSM Attack Accuracy:{} Loss:{}\".format(wb_acc, wb_loss))\n",
        "  \n",
        "  _, bb_fgsm_acc, bb_fgsm_loss = model.evaluate(bb_fgms_x, bb_fgsm_y)\n",
        "  print(\"Model \" + model_name + \": On Black-box FGSM Attack Accuracy:{} Loss:{}\".format(bb_fgsm_acc, bb_fgsm_loss))\n",
        "\n",
        "  _, bb_pgd_acc, bb_pgd_loss = model.evaluate(bb_pgd_x, bb_pgd_y)\n",
        "  print(\"Model \" + model_name + \": On Black-box PGD Attack Accuracy:{} Loss:{}\".format(bb_pgd_acc, bb_pgd_loss))\n",
        "\n"
      ],
      "execution_count": null,
      "outputs": [
        {
          "output_type": "stream",
          "text": [
            "(240000, 28, 28, 1)\n",
            "Model: \"sequential\"\n",
            "_________________________________________________________________\n",
            "Layer (type)                 Output Shape              Param #   \n",
            "=================================================================\n",
            "conv2d (Conv2D)              (None, 28, 28, 64)        1664      \n",
            "_________________________________________________________________\n",
            "conv2d_1 (Conv2D)            (None, 28, 28, 64)        102464    \n",
            "_________________________________________________________________\n",
            "dropout (Dropout)            (None, 28, 28, 64)        0         \n",
            "_________________________________________________________________\n",
            "flatten (Flatten)            (None, 50176)             0         \n",
            "_________________________________________________________________\n",
            "dense (Dense)                (None, 128)               6422656   \n",
            "_________________________________________________________________\n",
            "dropout_1 (Dropout)          (None, 128)               0         \n",
            "_________________________________________________________________\n",
            "dense_1 (Dense)              (None, 10)                1290      \n",
            "=================================================================\n",
            "Total params: 6,528,074\n",
            "Trainable params: 6,528,074\n",
            "Non-trainable params: 0\n",
            "_________________________________________________________________\n",
            "Epoch 1/12\n",
            "2400/2400 [==============================] - 18s 7ms/step - loss: 0.1109 - accuracy: 0.9666 - val_loss: 0.0473 - val_accuracy: 0.9840\n",
            "Epoch 2/12\n",
            "2400/2400 [==============================] - 18s 8ms/step - loss: 0.0325 - accuracy: 0.9900 - val_loss: 0.0437 - val_accuracy: 0.9879\n",
            "Epoch 3/12\n",
            "2400/2400 [==============================] - 18s 7ms/step - loss: 0.0218 - accuracy: 0.9934 - val_loss: 0.0350 - val_accuracy: 0.9893\n",
            "Epoch 4/12\n",
            "2400/2400 [==============================] - 18s 7ms/step - loss: 0.0167 - accuracy: 0.9947 - val_loss: 0.0381 - val_accuracy: 0.9894\n",
            "Epoch 5/12\n",
            "2400/2400 [==============================] - 18s 7ms/step - loss: 0.0142 - accuracy: 0.9956 - val_loss: 0.0370 - val_accuracy: 0.9904\n",
            "Epoch 6/12\n",
            "2400/2400 [==============================] - 18s 7ms/step - loss: 0.0120 - accuracy: 0.9963 - val_loss: 0.0382 - val_accuracy: 0.9910\n",
            "Epoch 7/12\n",
            "2400/2400 [==============================] - 18s 7ms/step - loss: 0.0111 - accuracy: 0.9966 - val_loss: 0.0361 - val_accuracy: 0.9911\n",
            "Epoch 8/12\n",
            "2400/2400 [==============================] - 18s 7ms/step - loss: 0.0100 - accuracy: 0.9969 - val_loss: 0.0433 - val_accuracy: 0.9904\n",
            "Epoch 9/12\n",
            "2400/2400 [==============================] - 18s 7ms/step - loss: 0.0090 - accuracy: 0.9973 - val_loss: 0.0402 - val_accuracy: 0.9904\n",
            "Epoch 10/12\n",
            "2400/2400 [==============================] - 18s 7ms/step - loss: 0.0086 - accuracy: 0.9973 - val_loss: 0.0440 - val_accuracy: 0.9909\n",
            "Epoch 11/12\n",
            "2400/2400 [==============================] - 18s 7ms/step - loss: 0.0089 - accuracy: 0.9974 - val_loss: 0.0374 - val_accuracy: 0.9915\n",
            "Epoch 12/12\n",
            "2400/2400 [==============================] - 18s 7ms/step - loss: 0.0078 - accuracy: 0.9977 - val_loss: 0.0440 - val_accuracy: 0.9913\n"
          ],
          "name": "stdout"
        },
        {
          "output_type": "stream",
          "text": [
            "100%|██████████| 100/100 [00:03<00:00, 25.73it/s]\n"
          ],
          "name": "stderr"
        },
        {
          "output_type": "stream",
          "text": [
            "Model A: On White-box FGSM Attack Accuracy:0.8103 Loss:2.6573572158813477\n",
            "Model A: On Black-box FGSM Attack Accuracy:0.9451 Loss:0.678898811340332\n",
            "Model A: On Black-box PGD Attack Accuracy:0.9781 Loss:0.10828495770692825\n",
            "(240000, 28, 28, 1)\n",
            "Model: \"sequential_1\"\n",
            "_________________________________________________________________\n",
            "Layer (type)                 Output Shape              Param #   \n",
            "=================================================================\n",
            "dropout_2 (Dropout)          (None, 28, 28, 1)         0         \n",
            "_________________________________________________________________\n",
            "conv2d_2 (Conv2D)            (None, 28, 28, 64)        4160      \n",
            "_________________________________________________________________\n",
            "conv2d_3 (Conv2D)            (None, 28, 28, 128)       295040    \n",
            "_________________________________________________________________\n",
            "conv2d_4 (Conv2D)            (None, 28, 28, 128)       409728    \n",
            "_________________________________________________________________\n",
            "dropout_3 (Dropout)          (None, 28, 28, 128)       0         \n",
            "_________________________________________________________________\n",
            "flatten_1 (Flatten)          (None, 100352)            0         \n",
            "_________________________________________________________________\n",
            "dense_2 (Dense)              (None, 10)                1003530   \n",
            "=================================================================\n",
            "Total params: 1,712,458\n",
            "Trainable params: 1,712,458\n",
            "Non-trainable params: 0\n",
            "_________________________________________________________________\n",
            "Epoch 1/12\n",
            "2400/2400 [==============================] - 61s 25ms/step - loss: 0.0952 - accuracy: 0.9706 - val_loss: 0.0449 - val_accuracy: 0.9852\n",
            "Epoch 2/12\n",
            "2400/2400 [==============================] - 61s 25ms/step - loss: 0.0314 - accuracy: 0.9903 - val_loss: 0.0417 - val_accuracy: 0.9865\n",
            "Epoch 3/12\n",
            "2400/2400 [==============================] - 61s 25ms/step - loss: 0.0247 - accuracy: 0.9923 - val_loss: 0.0413 - val_accuracy: 0.9871\n",
            "Epoch 4/12\n",
            "2400/2400 [==============================] - 61s 25ms/step - loss: 0.0200 - accuracy: 0.9938 - val_loss: 0.0303 - val_accuracy: 0.9912\n",
            "Epoch 5/12\n",
            "2400/2400 [==============================] - 61s 25ms/step - loss: 0.0169 - accuracy: 0.9949 - val_loss: 0.0372 - val_accuracy: 0.9882\n",
            "Epoch 6/12\n",
            "2400/2400 [==============================] - 61s 25ms/step - loss: 0.0167 - accuracy: 0.9950 - val_loss: 0.0286 - val_accuracy: 0.9910\n",
            "Epoch 7/12\n",
            "2400/2400 [==============================] - 61s 25ms/step - loss: 0.0141 - accuracy: 0.9956 - val_loss: 0.0323 - val_accuracy: 0.9893\n",
            "Epoch 8/12\n",
            "2400/2400 [==============================] - 61s 26ms/step - loss: 0.0145 - accuracy: 0.9956 - val_loss: 0.0403 - val_accuracy: 0.9886\n",
            "Epoch 9/12\n",
            "2400/2400 [==============================] - 61s 25ms/step - loss: 0.0123 - accuracy: 0.9963 - val_loss: 0.1385 - val_accuracy: 0.9654\n",
            "Epoch 10/12\n",
            "2400/2400 [==============================] - 61s 25ms/step - loss: 0.0129 - accuracy: 0.9962 - val_loss: 0.0424 - val_accuracy: 0.9904\n",
            "Epoch 11/12\n",
            "2400/2400 [==============================] - 61s 25ms/step - loss: 0.0120 - accuracy: 0.9967 - val_loss: 0.0315 - val_accuracy: 0.9910\n",
            "Epoch 12/12\n",
            "2400/2400 [==============================] - 61s 25ms/step - loss: 0.0117 - accuracy: 0.9967 - val_loss: 0.0457 - val_accuracy: 0.9895\n"
          ],
          "name": "stdout"
        },
        {
          "output_type": "stream",
          "text": [
            "100%|██████████| 100/100 [00:06<00:00, 15.54it/s]\n"
          ],
          "name": "stderr"
        },
        {
          "output_type": "stream",
          "text": [
            "Model B: On White-box FGSM Attack Accuracy:0.7783 Loss:2.215924024581909\n",
            "Model B: On Black-box FGSM Attack Accuracy:0.6926 Loss:4.265041828155518\n",
            "Model B: On Black-box PGD Attack Accuracy:0.9518 Loss:0.25723084807395935\n",
            "(240000, 28, 28, 1)\n",
            "Model: \"sequential_2\"\n",
            "_________________________________________________________________\n",
            "Layer (type)                 Output Shape              Param #   \n",
            "=================================================================\n",
            "conv2d_5 (Conv2D)            (None, 28, 28, 128)       1280      \n",
            "_________________________________________________________________\n",
            "max_pooling2d (MaxPooling2D) (None, 14, 14, 128)       0         \n",
            "_________________________________________________________________\n",
            "conv2d_6 (Conv2D)            (None, 14, 14, 64)        73792     \n",
            "_________________________________________________________________\n",
            "max_pooling2d_1 (MaxPooling2 (None, 7, 7, 64)          0         \n",
            "_________________________________________________________________\n",
            "flatten_2 (Flatten)          (None, 3136)              0         \n",
            "_________________________________________________________________\n",
            "dense_3 (Dense)              (None, 128)               401536    \n",
            "_________________________________________________________________\n",
            "dense_4 (Dense)              (None, 10)                1290      \n",
            "=================================================================\n",
            "Total params: 477,898\n",
            "Trainable params: 477,898\n",
            "Non-trainable params: 0\n",
            "_________________________________________________________________\n",
            "Epoch 1/12\n",
            "2400/2400 [==============================] - 13s 5ms/step - loss: 0.0914 - accuracy: 0.9720 - val_loss: 0.0633 - val_accuracy: 0.9792\n",
            "Epoch 2/12\n",
            "2400/2400 [==============================] - 12s 5ms/step - loss: 0.0247 - accuracy: 0.9921 - val_loss: 0.0518 - val_accuracy: 0.9847\n",
            "Epoch 3/12\n",
            "2400/2400 [==============================] - 12s 5ms/step - loss: 0.0156 - accuracy: 0.9951 - val_loss: 0.0491 - val_accuracy: 0.9864\n",
            "Epoch 4/12\n",
            "2400/2400 [==============================] - 12s 5ms/step - loss: 0.0122 - accuracy: 0.9962 - val_loss: 0.0544 - val_accuracy: 0.9846\n",
            "Epoch 5/12\n",
            "2400/2400 [==============================] - 12s 5ms/step - loss: 0.0104 - accuracy: 0.9968 - val_loss: 0.0554 - val_accuracy: 0.9869\n",
            "Epoch 6/12\n",
            "2400/2400 [==============================] - 12s 5ms/step - loss: 0.0091 - accuracy: 0.9973 - val_loss: 0.0588 - val_accuracy: 0.9880\n",
            "Epoch 7/12\n",
            "2400/2400 [==============================] - 12s 5ms/step - loss: 0.0087 - accuracy: 0.9975 - val_loss: 0.0748 - val_accuracy: 0.9850\n",
            "Epoch 8/12\n",
            "2400/2400 [==============================] - 13s 5ms/step - loss: 0.0077 - accuracy: 0.9978 - val_loss: 0.0528 - val_accuracy: 0.9889\n",
            "Epoch 9/12\n",
            "2400/2400 [==============================] - 12s 5ms/step - loss: 0.0067 - accuracy: 0.9979 - val_loss: 0.0724 - val_accuracy: 0.9862\n",
            "Epoch 10/12\n",
            "2400/2400 [==============================] - 12s 5ms/step - loss: 0.0080 - accuracy: 0.9979 - val_loss: 0.0773 - val_accuracy: 0.9867\n",
            "Epoch 11/12\n",
            "2400/2400 [==============================] - 12s 5ms/step - loss: 0.0067 - accuracy: 0.9983 - val_loss: 0.1225 - val_accuracy: 0.9806\n",
            "Epoch 12/12\n",
            "2400/2400 [==============================] - 12s 5ms/step - loss: 0.0072 - accuracy: 0.9982 - val_loss: 0.0728 - val_accuracy: 0.9882\n"
          ],
          "name": "stdout"
        },
        {
          "output_type": "stream",
          "text": [
            "100%|██████████| 100/100 [00:03<00:00, 26.51it/s]\n"
          ],
          "name": "stderr"
        },
        {
          "output_type": "stream",
          "text": [
            "Model C: On White-box FGSM Attack Accuracy:0.8709000000000002 Loss:2.0283920764923096\n",
            "Model C: On Black-box FGSM Attack Accuracy:0.8826 Loss:1.3458999395370483\n",
            "Model C: On Black-box PGD Attack Accuracy:0.9322 Loss:0.4128781855106354\n",
            "(240000, 28, 28, 1)\n",
            "Model: \"sequential_3\"\n",
            "_________________________________________________________________\n",
            "Layer (type)                 Output Shape              Param #   \n",
            "=================================================================\n",
            "flatten_3 (Flatten)          (None, 784)               0         \n",
            "_________________________________________________________________\n",
            "dense_5 (Dense)              (None, 300)               235500    \n",
            "_________________________________________________________________\n",
            "dropout_4 (Dropout)          (None, 300)               0         \n",
            "_________________________________________________________________\n",
            "dense_6 (Dense)              (None, 300)               90300     \n",
            "_________________________________________________________________\n",
            "dropout_5 (Dropout)          (None, 300)               0         \n",
            "_________________________________________________________________\n",
            "dense_7 (Dense)              (None, 300)               90300     \n",
            "_________________________________________________________________\n",
            "dropout_6 (Dropout)          (None, 300)               0         \n",
            "_________________________________________________________________\n",
            "dense_8 (Dense)              (None, 300)               90300     \n",
            "_________________________________________________________________\n",
            "dropout_7 (Dropout)          (None, 300)               0         \n",
            "_________________________________________________________________\n",
            "dense_9 (Dense)              (None, 10)                3010      \n",
            "=================================================================\n",
            "Total params: 509,410\n",
            "Trainable params: 509,410\n",
            "Non-trainable params: 0\n",
            "_________________________________________________________________\n",
            "Epoch 1/12\n",
            "2400/2400 [==============================] - 6s 3ms/step - loss: 0.4308 - accuracy: 0.8723 - val_loss: 0.1649 - val_accuracy: 0.9529\n",
            "Epoch 2/12\n",
            "2400/2400 [==============================] - 6s 3ms/step - loss: 0.2073 - accuracy: 0.9450 - val_loss: 0.1271 - val_accuracy: 0.9633\n",
            "Epoch 3/12\n",
            "2400/2400 [==============================] - 6s 3ms/step - loss: 0.1753 - accuracy: 0.9540 - val_loss: 0.1189 - val_accuracy: 0.9655\n",
            "Epoch 4/12\n",
            "2400/2400 [==============================] - 6s 3ms/step - loss: 0.1577 - accuracy: 0.9587 - val_loss: 0.1067 - val_accuracy: 0.9700\n",
            "Epoch 5/12\n",
            "2400/2400 [==============================] - 6s 3ms/step - loss: 0.1469 - accuracy: 0.9615 - val_loss: 0.1102 - val_accuracy: 0.9665\n",
            "Epoch 6/12\n",
            "2400/2400 [==============================] - 6s 3ms/step - loss: 0.1387 - accuracy: 0.9636 - val_loss: 0.1096 - val_accuracy: 0.9696\n",
            "Epoch 7/12\n",
            "2400/2400 [==============================] - 6s 3ms/step - loss: 0.1316 - accuracy: 0.9662 - val_loss: 0.0984 - val_accuracy: 0.9720\n",
            "Epoch 8/12\n",
            "2400/2400 [==============================] - 6s 3ms/step - loss: 0.1270 - accuracy: 0.9673 - val_loss: 0.0975 - val_accuracy: 0.9731\n",
            "Epoch 9/12\n",
            "2400/2400 [==============================] - 6s 3ms/step - loss: 0.1228 - accuracy: 0.9684 - val_loss: 0.0956 - val_accuracy: 0.9713\n",
            "Epoch 10/12\n",
            "2400/2400 [==============================] - 6s 3ms/step - loss: 0.1200 - accuracy: 0.9693 - val_loss: 0.0992 - val_accuracy: 0.9725\n",
            "Epoch 11/12\n",
            "2400/2400 [==============================] - 6s 3ms/step - loss: 0.1162 - accuracy: 0.9705 - val_loss: 0.0967 - val_accuracy: 0.9725\n",
            "Epoch 12/12\n",
            "2400/2400 [==============================] - 6s 3ms/step - loss: 0.1155 - accuracy: 0.9710 - val_loss: 0.0943 - val_accuracy: 0.9743\n"
          ],
          "name": "stdout"
        },
        {
          "output_type": "stream",
          "text": [
            "100%|██████████| 100/100 [00:03<00:00, 29.47it/s]\n"
          ],
          "name": "stderr"
        },
        {
          "output_type": "stream",
          "text": [
            "Model D: On White-box FGSM Attack Accuracy:0.1663 Loss:8.231470108032227\n",
            "Model D: On Black-box FGSM Attack Accuracy:0.7475 Loss:1.5565402507781982\n",
            "Model D: On Black-box PGD Attack Accuracy:0.8389 Loss:0.7038243412971497\n"
          ],
          "name": "stdout"
        }
      ]
    }
  ]
}